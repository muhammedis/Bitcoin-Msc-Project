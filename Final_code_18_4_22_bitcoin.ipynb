{
  "cells": [
    {
      "cell_type": "markdown",
      "metadata": {
        "id": "e9ff4346"
      },
      "source": [
        "# Prediction of Bitcoin \n",
        "   #Importing Library"
      ],
      "id": "e9ff4346"
    },
    {
      "cell_type": "code",
      "execution_count": null,
      "metadata": {
        "id": "850e8f10"
      },
      "outputs": [],
      "source": [
        "import numpy as np \n",
        "import pandas as pd \n",
        "import matplotlib.pyplot as plt\n",
        "import seaborn as sns\n",
        "%matplotlib inline"
      ],
      "id": "850e8f10"
    },
    {
      "cell_type": "markdown",
      "metadata": {
        "id": "1UL4Ljc-XW5S"
      },
      "source": [
        "# New Section"
      ],
      "id": "1UL4Ljc-XW5S"
    },
    {
      "cell_type": "markdown",
      "metadata": {
        "id": "a0e4eb6a"
      },
      "source": [
        "#Load Data"
      ],
      "id": "a0e4eb6a"
    },
    {
      "cell_type": "code",
      "execution_count": null,
      "metadata": {
        "id": "35acc0e3"
      },
      "outputs": [],
      "source": [
        "df = pd.read_csv('/content/BITCOIN DATASET 7151CEM.csv')"
      ],
      "id": "35acc0e3"
    },
    {
      "cell_type": "code",
      "execution_count": null,
      "metadata": {
        "id": "b1ab4b00",
        "scrolled": true
      },
      "outputs": [],
      "source": [
        "df.head(2)"
      ],
      "id": "b1ab4b00"
    },
    {
      "cell_type": "code",
      "execution_count": null,
      "metadata": {
        "colab": {
          "base_uri": "https://localhost:8080/"
        },
        "id": "58db974f",
        "outputId": "28584b06-0b00-44e3-9faf-cb1aba4ddacd"
      },
      "outputs": [
        {
          "output_type": "stream",
          "name": "stdout",
          "text": [
            "<class 'pandas.core.frame.DataFrame'>\n",
            "RangeIndex: 38461 entries, 0 to 38460\n",
            "Data columns (total 9 columns):\n",
            " #   Column            Non-Null Count  Dtype  \n",
            "---  ------            --------------  -----  \n",
            " 0   open              38461 non-null  float64\n",
            " 1   high              38461 non-null  float64\n",
            " 2   low               38461 non-null  float64\n",
            " 3   close             38461 non-null  float64\n",
            " 4   volume            38461 non-null  float64\n",
            " 5   close_time        38461 non-null  object \n",
            " 6   quote             38461 non-null  float64\n",
            " 7   takers_buy_base   38461 non-null  float64\n",
            " 8   takers_buy_quote  38461 non-null  float64\n",
            "dtypes: float64(8), object(1)\n",
            "memory usage: 2.6+ MB\n"
          ]
        }
      ],
      "source": [
        "df.info()"
      ],
      "id": "58db974f"
    },
    {
      "cell_type": "code",
      "execution_count": null,
      "metadata": {
        "id": "2d59a77b"
      },
      "outputs": [],
      "source": [
        "#DELETE TIME FROM DATE\n",
        "#df.close_time = pd.to_datetime(df.close_time).dt.date\n",
        "#change object to datetime\n",
        "df.close_time = pd.to_datetime(df.close_time)\n",
        "#strip the milliseconds\n",
        "df.close_time = pd.to_datetime(df[\"close_time\"].dt.strftime('%Y-%m-%d %H:%M:%S'))"
      ],
      "id": "2d59a77b"
    },
    {
      "cell_type": "code",
      "execution_count": null,
      "metadata": {
        "colab": {
          "base_uri": "https://localhost:8080/"
        },
        "id": "d1d7c953",
        "outputId": "f05995e9-ab73-485e-8a7a-a2807181fd9f"
      },
      "outputs": [
        {
          "output_type": "stream",
          "name": "stdout",
          "text": [
            "<class 'pandas.core.frame.DataFrame'>\n",
            "RangeIndex: 38461 entries, 0 to 38460\n",
            "Data columns (total 9 columns):\n",
            " #   Column            Non-Null Count  Dtype         \n",
            "---  ------            --------------  -----         \n",
            " 0   open              38461 non-null  float64       \n",
            " 1   high              38461 non-null  float64       \n",
            " 2   low               38461 non-null  float64       \n",
            " 3   close             38461 non-null  float64       \n",
            " 4   volume            38461 non-null  float64       \n",
            " 5   close_time        38461 non-null  datetime64[ns]\n",
            " 6   quote             38461 non-null  float64       \n",
            " 7   takers_buy_base   38461 non-null  float64       \n",
            " 8   takers_buy_quote  38461 non-null  float64       \n",
            "dtypes: datetime64[ns](1), float64(8)\n",
            "memory usage: 2.6 MB\n"
          ]
        }
      ],
      "source": [
        "df.info()"
      ],
      "id": "d1d7c953"
    },
    {
      "cell_type": "code",
      "execution_count": null,
      "metadata": {
        "colab": {
          "base_uri": "https://localhost:8080/",
          "height": 300
        },
        "id": "2f7d02f7",
        "outputId": "507670fd-fa0c-43ed-9ec6-7ba9c004d98f"
      },
      "outputs": [
        {
          "output_type": "execute_result",
          "data": {
            "text/plain": [
              "               open          high           low         close        volume  \\\n",
              "count  38461.000000  38461.000000  38461.000000  38461.000000  38461.000000   \n",
              "mean   17589.002805  17696.560219  17473.314191  17589.962025   2101.814189   \n",
              "std    17359.685254  17463.372583  17249.006318  17359.989729   2175.337360   \n",
              "min     2870.900000   2950.000000   2817.000000   2919.000000      0.000000   \n",
              "25%     6726.000000   6752.760000   6695.490000   6726.110000    919.149470   \n",
              "50%     9298.330000   9339.370000   9259.980000   9298.750000   1536.182670   \n",
              "75%    19024.330000  19125.760000  18900.000000  19026.490000   2571.497519   \n",
              "max    68635.120000  69000.000000  68451.190000  68633.690000  47255.762690   \n",
              "\n",
              "              quote  takers_buy_base  takers_buy_quote  \n",
              "count  3.846100e+04     38461.000000      3.846100e+04  \n",
              "mean   4.369855e+07      1046.701701      2.159233e+07  \n",
              "std    7.080532e+07      1066.267302      3.481741e+07  \n",
              "min    0.000000e+00         0.000000      0.000000e+00  \n",
              "25%    7.125238e+06       470.170524      3.665090e+06  \n",
              "50%    1.545427e+07       773.216614      7.739254e+06  \n",
              "75%    5.187811e+07      1279.230445      2.529690e+07  \n",
              "max    1.514465e+09     20628.794050      6.849674e+08  "
            ],
            "text/html": [
              "\n",
              "  <div id=\"df-23785d34-3ff2-4967-8ff8-8ce2633866e3\">\n",
              "    <div class=\"colab-df-container\">\n",
              "      <div>\n",
              "<style scoped>\n",
              "    .dataframe tbody tr th:only-of-type {\n",
              "        vertical-align: middle;\n",
              "    }\n",
              "\n",
              "    .dataframe tbody tr th {\n",
              "        vertical-align: top;\n",
              "    }\n",
              "\n",
              "    .dataframe thead th {\n",
              "        text-align: right;\n",
              "    }\n",
              "</style>\n",
              "<table border=\"1\" class=\"dataframe\">\n",
              "  <thead>\n",
              "    <tr style=\"text-align: right;\">\n",
              "      <th></th>\n",
              "      <th>open</th>\n",
              "      <th>high</th>\n",
              "      <th>low</th>\n",
              "      <th>close</th>\n",
              "      <th>volume</th>\n",
              "      <th>quote</th>\n",
              "      <th>takers_buy_base</th>\n",
              "      <th>takers_buy_quote</th>\n",
              "    </tr>\n",
              "  </thead>\n",
              "  <tbody>\n",
              "    <tr>\n",
              "      <th>count</th>\n",
              "      <td>38461.000000</td>\n",
              "      <td>38461.000000</td>\n",
              "      <td>38461.000000</td>\n",
              "      <td>38461.000000</td>\n",
              "      <td>38461.000000</td>\n",
              "      <td>3.846100e+04</td>\n",
              "      <td>38461.000000</td>\n",
              "      <td>3.846100e+04</td>\n",
              "    </tr>\n",
              "    <tr>\n",
              "      <th>mean</th>\n",
              "      <td>17589.002805</td>\n",
              "      <td>17696.560219</td>\n",
              "      <td>17473.314191</td>\n",
              "      <td>17589.962025</td>\n",
              "      <td>2101.814189</td>\n",
              "      <td>4.369855e+07</td>\n",
              "      <td>1046.701701</td>\n",
              "      <td>2.159233e+07</td>\n",
              "    </tr>\n",
              "    <tr>\n",
              "      <th>std</th>\n",
              "      <td>17359.685254</td>\n",
              "      <td>17463.372583</td>\n",
              "      <td>17249.006318</td>\n",
              "      <td>17359.989729</td>\n",
              "      <td>2175.337360</td>\n",
              "      <td>7.080532e+07</td>\n",
              "      <td>1066.267302</td>\n",
              "      <td>3.481741e+07</td>\n",
              "    </tr>\n",
              "    <tr>\n",
              "      <th>min</th>\n",
              "      <td>2870.900000</td>\n",
              "      <td>2950.000000</td>\n",
              "      <td>2817.000000</td>\n",
              "      <td>2919.000000</td>\n",
              "      <td>0.000000</td>\n",
              "      <td>0.000000e+00</td>\n",
              "      <td>0.000000</td>\n",
              "      <td>0.000000e+00</td>\n",
              "    </tr>\n",
              "    <tr>\n",
              "      <th>25%</th>\n",
              "      <td>6726.000000</td>\n",
              "      <td>6752.760000</td>\n",
              "      <td>6695.490000</td>\n",
              "      <td>6726.110000</td>\n",
              "      <td>919.149470</td>\n",
              "      <td>7.125238e+06</td>\n",
              "      <td>470.170524</td>\n",
              "      <td>3.665090e+06</td>\n",
              "    </tr>\n",
              "    <tr>\n",
              "      <th>50%</th>\n",
              "      <td>9298.330000</td>\n",
              "      <td>9339.370000</td>\n",
              "      <td>9259.980000</td>\n",
              "      <td>9298.750000</td>\n",
              "      <td>1536.182670</td>\n",
              "      <td>1.545427e+07</td>\n",
              "      <td>773.216614</td>\n",
              "      <td>7.739254e+06</td>\n",
              "    </tr>\n",
              "    <tr>\n",
              "      <th>75%</th>\n",
              "      <td>19024.330000</td>\n",
              "      <td>19125.760000</td>\n",
              "      <td>18900.000000</td>\n",
              "      <td>19026.490000</td>\n",
              "      <td>2571.497519</td>\n",
              "      <td>5.187811e+07</td>\n",
              "      <td>1279.230445</td>\n",
              "      <td>2.529690e+07</td>\n",
              "    </tr>\n",
              "    <tr>\n",
              "      <th>max</th>\n",
              "      <td>68635.120000</td>\n",
              "      <td>69000.000000</td>\n",
              "      <td>68451.190000</td>\n",
              "      <td>68633.690000</td>\n",
              "      <td>47255.762690</td>\n",
              "      <td>1.514465e+09</td>\n",
              "      <td>20628.794050</td>\n",
              "      <td>6.849674e+08</td>\n",
              "    </tr>\n",
              "  </tbody>\n",
              "</table>\n",
              "</div>\n",
              "      <button class=\"colab-df-convert\" onclick=\"convertToInteractive('df-23785d34-3ff2-4967-8ff8-8ce2633866e3')\"\n",
              "              title=\"Convert this dataframe to an interactive table.\"\n",
              "              style=\"display:none;\">\n",
              "        \n",
              "  <svg xmlns=\"http://www.w3.org/2000/svg\" height=\"24px\"viewBox=\"0 0 24 24\"\n",
              "       width=\"24px\">\n",
              "    <path d=\"M0 0h24v24H0V0z\" fill=\"none\"/>\n",
              "    <path d=\"M18.56 5.44l.94 2.06.94-2.06 2.06-.94-2.06-.94-.94-2.06-.94 2.06-2.06.94zm-11 1L8.5 8.5l.94-2.06 2.06-.94-2.06-.94L8.5 2.5l-.94 2.06-2.06.94zm10 10l.94 2.06.94-2.06 2.06-.94-2.06-.94-.94-2.06-.94 2.06-2.06.94z\"/><path d=\"M17.41 7.96l-1.37-1.37c-.4-.4-.92-.59-1.43-.59-.52 0-1.04.2-1.43.59L10.3 9.45l-7.72 7.72c-.78.78-.78 2.05 0 2.83L4 21.41c.39.39.9.59 1.41.59.51 0 1.02-.2 1.41-.59l7.78-7.78 2.81-2.81c.8-.78.8-2.07 0-2.86zM5.41 20L4 18.59l7.72-7.72 1.47 1.35L5.41 20z\"/>\n",
              "  </svg>\n",
              "      </button>\n",
              "      \n",
              "  <style>\n",
              "    .colab-df-container {\n",
              "      display:flex;\n",
              "      flex-wrap:wrap;\n",
              "      gap: 12px;\n",
              "    }\n",
              "\n",
              "    .colab-df-convert {\n",
              "      background-color: #E8F0FE;\n",
              "      border: none;\n",
              "      border-radius: 50%;\n",
              "      cursor: pointer;\n",
              "      display: none;\n",
              "      fill: #1967D2;\n",
              "      height: 32px;\n",
              "      padding: 0 0 0 0;\n",
              "      width: 32px;\n",
              "    }\n",
              "\n",
              "    .colab-df-convert:hover {\n",
              "      background-color: #E2EBFA;\n",
              "      box-shadow: 0px 1px 2px rgba(60, 64, 67, 0.3), 0px 1px 3px 1px rgba(60, 64, 67, 0.15);\n",
              "      fill: #174EA6;\n",
              "    }\n",
              "\n",
              "    [theme=dark] .colab-df-convert {\n",
              "      background-color: #3B4455;\n",
              "      fill: #D2E3FC;\n",
              "    }\n",
              "\n",
              "    [theme=dark] .colab-df-convert:hover {\n",
              "      background-color: #434B5C;\n",
              "      box-shadow: 0px 1px 3px 1px rgba(0, 0, 0, 0.15);\n",
              "      filter: drop-shadow(0px 1px 2px rgba(0, 0, 0, 0.3));\n",
              "      fill: #FFFFFF;\n",
              "    }\n",
              "  </style>\n",
              "\n",
              "      <script>\n",
              "        const buttonEl =\n",
              "          document.querySelector('#df-23785d34-3ff2-4967-8ff8-8ce2633866e3 button.colab-df-convert');\n",
              "        buttonEl.style.display =\n",
              "          google.colab.kernel.accessAllowed ? 'block' : 'none';\n",
              "\n",
              "        async function convertToInteractive(key) {\n",
              "          const element = document.querySelector('#df-23785d34-3ff2-4967-8ff8-8ce2633866e3');\n",
              "          const dataTable =\n",
              "            await google.colab.kernel.invokeFunction('convertToInteractive',\n",
              "                                                     [key], {});\n",
              "          if (!dataTable) return;\n",
              "\n",
              "          const docLinkHtml = 'Like what you see? Visit the ' +\n",
              "            '<a target=\"_blank\" href=https://colab.research.google.com/notebooks/data_table.ipynb>data table notebook</a>'\n",
              "            + ' to learn more about interactive tables.';\n",
              "          element.innerHTML = '';\n",
              "          dataTable['output_type'] = 'display_data';\n",
              "          await google.colab.output.renderOutput(dataTable, element);\n",
              "          const docLink = document.createElement('div');\n",
              "          docLink.innerHTML = docLinkHtml;\n",
              "          element.appendChild(docLink);\n",
              "        }\n",
              "      </script>\n",
              "    </div>\n",
              "  </div>\n",
              "  "
            ]
          },
          "metadata": {},
          "execution_count": 7
        }
      ],
      "source": [
        "df.describe()"
      ],
      "id": "2f7d02f7"
    },
    {
      "cell_type": "code",
      "execution_count": null,
      "metadata": {
        "colab": {
          "base_uri": "https://localhost:8080/"
        },
        "id": "fdb1aa13",
        "outputId": "c84ba6f7-e0f3-4f05-bc09-c7a73d613666",
        "scrolled": false
      },
      "outputs": [
        {
          "output_type": "execute_result",
          "data": {
            "text/plain": [
              "open                0\n",
              "high                0\n",
              "low                 0\n",
              "close               0\n",
              "volume              0\n",
              "close_time          0\n",
              "quote               0\n",
              "takers_buy_base     0\n",
              "takers_buy_quote    0\n",
              "dtype: int64"
            ]
          },
          "metadata": {},
          "execution_count": 8
        }
      ],
      "source": [
        "df.isnull().sum()"
      ],
      "id": "fdb1aa13"
    },
    {
      "cell_type": "code",
      "execution_count": null,
      "metadata": {
        "id": "eY2lCSx4R8tR"
      },
      "outputs": [],
      "source": [
        "df = df.drop(['takers_buy_base'],axis = 1,inplace = False)"
      ],
      "id": "eY2lCSx4R8tR"
    },
    {
      "cell_type": "code",
      "execution_count": null,
      "metadata": {
        "id": "qYicRKgmTMm0"
      },
      "outputs": [],
      "source": [
        "df = df.drop(['takers_buy_quote'],axis = 1,inplace = False)"
      ],
      "id": "qYicRKgmTMm0"
    },
    {
      "cell_type": "code",
      "execution_count": null,
      "metadata": {
        "id": "Guj0X2bjTjR_"
      },
      "outputs": [],
      "source": [
        "df = df.drop(['quote'],axis = 1,inplace = False)"
      ],
      "id": "Guj0X2bjTjR_"
    },
    {
      "cell_type": "code",
      "execution_count": null,
      "metadata": {
        "colab": {
          "base_uri": "https://localhost:8080/",
          "height": 112
        },
        "id": "TNpfku2BTsDn",
        "outputId": "ebee41f9-20ce-4e56-aec7-959e09cd7309"
      },
      "outputs": [
        {
          "output_type": "execute_result",
          "data": {
            "text/plain": [
              "      open     high      low    close     volume          close_time\n",
              "0  4261.48  4313.62  4261.32  4308.83  47.181009 2017-08-16 23:59:59\n",
              "1  4308.83  4328.69  4291.37  4315.32  23.234916 2017-08-17 00:59:59"
            ],
            "text/html": [
              "\n",
              "  <div id=\"df-9bff0615-d693-46ee-b8bc-f0fd847f0370\">\n",
              "    <div class=\"colab-df-container\">\n",
              "      <div>\n",
              "<style scoped>\n",
              "    .dataframe tbody tr th:only-of-type {\n",
              "        vertical-align: middle;\n",
              "    }\n",
              "\n",
              "    .dataframe tbody tr th {\n",
              "        vertical-align: top;\n",
              "    }\n",
              "\n",
              "    .dataframe thead th {\n",
              "        text-align: right;\n",
              "    }\n",
              "</style>\n",
              "<table border=\"1\" class=\"dataframe\">\n",
              "  <thead>\n",
              "    <tr style=\"text-align: right;\">\n",
              "      <th></th>\n",
              "      <th>open</th>\n",
              "      <th>high</th>\n",
              "      <th>low</th>\n",
              "      <th>close</th>\n",
              "      <th>volume</th>\n",
              "      <th>close_time</th>\n",
              "    </tr>\n",
              "  </thead>\n",
              "  <tbody>\n",
              "    <tr>\n",
              "      <th>0</th>\n",
              "      <td>4261.48</td>\n",
              "      <td>4313.62</td>\n",
              "      <td>4261.32</td>\n",
              "      <td>4308.83</td>\n",
              "      <td>47.181009</td>\n",
              "      <td>2017-08-16 23:59:59</td>\n",
              "    </tr>\n",
              "    <tr>\n",
              "      <th>1</th>\n",
              "      <td>4308.83</td>\n",
              "      <td>4328.69</td>\n",
              "      <td>4291.37</td>\n",
              "      <td>4315.32</td>\n",
              "      <td>23.234916</td>\n",
              "      <td>2017-08-17 00:59:59</td>\n",
              "    </tr>\n",
              "  </tbody>\n",
              "</table>\n",
              "</div>\n",
              "      <button class=\"colab-df-convert\" onclick=\"convertToInteractive('df-9bff0615-d693-46ee-b8bc-f0fd847f0370')\"\n",
              "              title=\"Convert this dataframe to an interactive table.\"\n",
              "              style=\"display:none;\">\n",
              "        \n",
              "  <svg xmlns=\"http://www.w3.org/2000/svg\" height=\"24px\"viewBox=\"0 0 24 24\"\n",
              "       width=\"24px\">\n",
              "    <path d=\"M0 0h24v24H0V0z\" fill=\"none\"/>\n",
              "    <path d=\"M18.56 5.44l.94 2.06.94-2.06 2.06-.94-2.06-.94-.94-2.06-.94 2.06-2.06.94zm-11 1L8.5 8.5l.94-2.06 2.06-.94-2.06-.94L8.5 2.5l-.94 2.06-2.06.94zm10 10l.94 2.06.94-2.06 2.06-.94-2.06-.94-.94-2.06-.94 2.06-2.06.94z\"/><path d=\"M17.41 7.96l-1.37-1.37c-.4-.4-.92-.59-1.43-.59-.52 0-1.04.2-1.43.59L10.3 9.45l-7.72 7.72c-.78.78-.78 2.05 0 2.83L4 21.41c.39.39.9.59 1.41.59.51 0 1.02-.2 1.41-.59l7.78-7.78 2.81-2.81c.8-.78.8-2.07 0-2.86zM5.41 20L4 18.59l7.72-7.72 1.47 1.35L5.41 20z\"/>\n",
              "  </svg>\n",
              "      </button>\n",
              "      \n",
              "  <style>\n",
              "    .colab-df-container {\n",
              "      display:flex;\n",
              "      flex-wrap:wrap;\n",
              "      gap: 12px;\n",
              "    }\n",
              "\n",
              "    .colab-df-convert {\n",
              "      background-color: #E8F0FE;\n",
              "      border: none;\n",
              "      border-radius: 50%;\n",
              "      cursor: pointer;\n",
              "      display: none;\n",
              "      fill: #1967D2;\n",
              "      height: 32px;\n",
              "      padding: 0 0 0 0;\n",
              "      width: 32px;\n",
              "    }\n",
              "\n",
              "    .colab-df-convert:hover {\n",
              "      background-color: #E2EBFA;\n",
              "      box-shadow: 0px 1px 2px rgba(60, 64, 67, 0.3), 0px 1px 3px 1px rgba(60, 64, 67, 0.15);\n",
              "      fill: #174EA6;\n",
              "    }\n",
              "\n",
              "    [theme=dark] .colab-df-convert {\n",
              "      background-color: #3B4455;\n",
              "      fill: #D2E3FC;\n",
              "    }\n",
              "\n",
              "    [theme=dark] .colab-df-convert:hover {\n",
              "      background-color: #434B5C;\n",
              "      box-shadow: 0px 1px 3px 1px rgba(0, 0, 0, 0.15);\n",
              "      filter: drop-shadow(0px 1px 2px rgba(0, 0, 0, 0.3));\n",
              "      fill: #FFFFFF;\n",
              "    }\n",
              "  </style>\n",
              "\n",
              "      <script>\n",
              "        const buttonEl =\n",
              "          document.querySelector('#df-9bff0615-d693-46ee-b8bc-f0fd847f0370 button.colab-df-convert');\n",
              "        buttonEl.style.display =\n",
              "          google.colab.kernel.accessAllowed ? 'block' : 'none';\n",
              "\n",
              "        async function convertToInteractive(key) {\n",
              "          const element = document.querySelector('#df-9bff0615-d693-46ee-b8bc-f0fd847f0370');\n",
              "          const dataTable =\n",
              "            await google.colab.kernel.invokeFunction('convertToInteractive',\n",
              "                                                     [key], {});\n",
              "          if (!dataTable) return;\n",
              "\n",
              "          const docLinkHtml = 'Like what you see? Visit the ' +\n",
              "            '<a target=\"_blank\" href=https://colab.research.google.com/notebooks/data_table.ipynb>data table notebook</a>'\n",
              "            + ' to learn more about interactive tables.';\n",
              "          element.innerHTML = '';\n",
              "          dataTable['output_type'] = 'display_data';\n",
              "          await google.colab.output.renderOutput(dataTable, element);\n",
              "          const docLink = document.createElement('div');\n",
              "          docLink.innerHTML = docLinkHtml;\n",
              "          element.appendChild(docLink);\n",
              "        }\n",
              "      </script>\n",
              "    </div>\n",
              "  </div>\n",
              "  "
            ]
          },
          "metadata": {},
          "execution_count": 12
        }
      ],
      "source": [
        "  df.head(2)"
      ],
      "id": "TNpfku2BTsDn"
    },
    {
      "cell_type": "code",
      "execution_count": null,
      "metadata": {
        "colab": {
          "base_uri": "https://localhost:8080/",
          "height": 283
        },
        "id": "3d1a171a",
        "outputId": "b7d5e5ff-d3e4-4e26-e462-c63a0fa622c3",
        "scrolled": false
      },
      "outputs": [
        {
          "output_type": "execute_result",
          "data": {
            "text/plain": [
              "<matplotlib.axes._subplots.AxesSubplot at 0x7fe4b601f7d0>"
            ]
          },
          "metadata": {},
          "execution_count": 13
        },
        {
          "output_type": "display_data",
          "data": {
            "text/plain": [
              "<Figure size 432x288 with 1 Axes>"
            ],
            "image/png": "[encoded data removed]"
          },
          "metadata": {
            "needs_background": "light"
          }
        }
      ],
      "source": [
        "sns.heatmap(df.isnull(), yticklabels=False, cbar = False, cmap='viridis' )"
      ],
      "id": "3d1a171a"
    },
    {
      "cell_type": "code",
      "execution_count": null,
      "metadata": {
        "colab": {
          "base_uri": "https://localhost:8080/",
          "height": 175
        },
        "id": "fe4cb0e3",
        "outputId": "e7d1682b-8d00-4fc1-fcf8-353d9b5b3e75"
      },
      "outputs": [
        {
          "output_type": "execute_result",
          "data": {
            "text/plain": [
              "                        open     high      low    close     volume\n",
              "close_time                                                        \n",
              "2017-08-16 23:59:59  4261.48  4313.62  4261.32  4308.83  47.181009\n",
              "2017-08-17 00:59:59  4308.83  4328.69  4291.37  4315.32  23.234916\n",
              "2017-08-17 01:59:59  4330.29  4345.45  4309.37  4324.35   7.229691"
            ],
            "text/html": [
              "\n",
              "  <div id=\"df-ab0bcb59-d290-4c06-a414-d95bf9ce064f\">\n",
              "    <div class=\"colab-df-container\">\n",
              "      <div>\n",
              "<style scoped>\n",
              "    .dataframe tbody tr th:only-of-type {\n",
              "        vertical-align: middle;\n",
              "    }\n",
              "\n",
              "    .dataframe tbody tr th {\n",
              "        vertical-align: top;\n",
              "    }\n",
              "\n",
              "    .dataframe thead th {\n",
              "        text-align: right;\n",
              "    }\n",
              "</style>\n",
              "<table border=\"1\" class=\"dataframe\">\n",
              "  <thead>\n",
              "    <tr style=\"text-align: right;\">\n",
              "      <th></th>\n",
              "      <th>open</th>\n",
              "      <th>high</th>\n",
              "      <th>low</th>\n",
              "      <th>close</th>\n",
              "      <th>volume</th>\n",
              "    </tr>\n",
              "    <tr>\n",
              "      <th>close_time</th>\n",
              "      <th></th>\n",
              "      <th></th>\n",
              "      <th></th>\n",
              "      <th></th>\n",
              "      <th></th>\n",
              "    </tr>\n",
              "  </thead>\n",
              "  <tbody>\n",
              "    <tr>\n",
              "      <th>2017-08-16 23:59:59</th>\n",
              "      <td>4261.48</td>\n",
              "      <td>4313.62</td>\n",
              "      <td>4261.32</td>\n",
              "      <td>4308.83</td>\n",
              "      <td>47.181009</td>\n",
              "    </tr>\n",
              "    <tr>\n",
              "      <th>2017-08-17 00:59:59</th>\n",
              "      <td>4308.83</td>\n",
              "      <td>4328.69</td>\n",
              "      <td>4291.37</td>\n",
              "      <td>4315.32</td>\n",
              "      <td>23.234916</td>\n",
              "    </tr>\n",
              "    <tr>\n",
              "      <th>2017-08-17 01:59:59</th>\n",
              "      <td>4330.29</td>\n",
              "      <td>4345.45</td>\n",
              "      <td>4309.37</td>\n",
              "      <td>4324.35</td>\n",
              "      <td>7.229691</td>\n",
              "    </tr>\n",
              "  </tbody>\n",
              "</table>\n",
              "</div>\n",
              "      <button class=\"colab-df-convert\" onclick=\"convertToInteractive('df-ab0bcb59-d290-4c06-a414-d95bf9ce064f')\"\n",
              "              title=\"Convert this dataframe to an interactive table.\"\n",
              "              style=\"display:none;\">\n",
              "        \n",
              "  <svg xmlns=\"http://www.w3.org/2000/svg\" height=\"24px\"viewBox=\"0 0 24 24\"\n",
              "       width=\"24px\">\n",
              "    <path d=\"M0 0h24v24H0V0z\" fill=\"none\"/>\n",
              "    <path d=\"M18.56 5.44l.94 2.06.94-2.06 2.06-.94-2.06-.94-.94-2.06-.94 2.06-2.06.94zm-11 1L8.5 8.5l.94-2.06 2.06-.94-2.06-.94L8.5 2.5l-.94 2.06-2.06.94zm10 10l.94 2.06.94-2.06 2.06-.94-2.06-.94-.94-2.06-.94 2.06-2.06.94z\"/><path d=\"M17.41 7.96l-1.37-1.37c-.4-.4-.92-.59-1.43-.59-.52 0-1.04.2-1.43.59L10.3 9.45l-7.72 7.72c-.78.78-.78 2.05 0 2.83L4 21.41c.39.39.9.59 1.41.59.51 0 1.02-.2 1.41-.59l7.78-7.78 2.81-2.81c.8-.78.8-2.07 0-2.86zM5.41 20L4 18.59l7.72-7.72 1.47 1.35L5.41 20z\"/>\n",
              "  </svg>\n",
              "      </button>\n",
              "      \n",
              "  <style>\n",
              "    .colab-df-container {\n",
              "      display:flex;\n",
              "      flex-wrap:wrap;\n",
              "      gap: 12px;\n",
              "    }\n",
              "\n",
              "    .colab-df-convert {\n",
              "      background-color: #E8F0FE;\n",
              "      border: none;\n",
              "      border-radius: 50%;\n",
              "      cursor: pointer;\n",
              "      display: none;\n",
              "      fill: #1967D2;\n",
              "      height: 32px;\n",
              "      padding: 0 0 0 0;\n",
              "      width: 32px;\n",
              "    }\n",
              "\n",
              "    .colab-df-convert:hover {\n",
              "      background-color: #E2EBFA;\n",
              "      box-shadow: 0px 1px 2px rgba(60, 64, 67, 0.3), 0px 1px 3px 1px rgba(60, 64, 67, 0.15);\n",
              "      fill: #174EA6;\n",
              "    }\n",
              "\n",
              "    [theme=dark] .colab-df-convert {\n",
              "      background-color: #3B4455;\n",
              "      fill: #D2E3FC;\n",
              "    }\n",
              "\n",
              "    [theme=dark] .colab-df-convert:hover {\n",
              "      background-color: #434B5C;\n",
              "      box-shadow: 0px 1px 3px 1px rgba(0, 0, 0, 0.15);\n",
              "      filter: drop-shadow(0px 1px 2px rgba(0, 0, 0, 0.3));\n",
              "      fill: #FFFFFF;\n",
              "    }\n",
              "  </style>\n",
              "\n",
              "      <script>\n",
              "        const buttonEl =\n",
              "          document.querySelector('#df-ab0bcb59-d290-4c06-a414-d95bf9ce064f button.colab-df-convert');\n",
              "        buttonEl.style.display =\n",
              "          google.colab.kernel.accessAllowed ? 'block' : 'none';\n",
              "\n",
              "        async function convertToInteractive(key) {\n",
              "          const element = document.querySelector('#df-ab0bcb59-d290-4c06-a414-d95bf9ce064f');\n",
              "          const dataTable =\n",
              "            await google.colab.kernel.invokeFunction('convertToInteractive',\n",
              "                                                     [key], {});\n",
              "          if (!dataTable) return;\n",
              "\n",
              "          const docLinkHtml = 'Like what you see? Visit the ' +\n",
              "            '<a target=\"_blank\" href=https://colab.research.google.com/notebooks/data_table.ipynb>data table notebook</a>'\n",
              "            + ' to learn more about interactive tables.';\n",
              "          element.innerHTML = '';\n",
              "          dataTable['output_type'] = 'display_data';\n",
              "          await google.colab.output.renderOutput(dataTable, element);\n",
              "          const docLink = document.createElement('div');\n",
              "          docLink.innerHTML = docLinkHtml;\n",
              "          element.appendChild(docLink);\n",
              "        }\n",
              "      </script>\n",
              "    </div>\n",
              "  </div>\n",
              "  "
            ]
          },
          "metadata": {},
          "execution_count": 14
        }
      ],
      "source": [
        "df = df.set_index('close_time')\n",
        "df.head(3)"
      ],
      "id": "fe4cb0e3"
    },
    {
      "cell_type": "code",
      "execution_count": null,
      "metadata": {
        "colab": {
          "base_uri": "https://localhost:8080/",
          "height": 295
        },
        "id": "0eaf84fe",
        "outputId": "46d7e3b1-8079-47bd-b5a7-76d27a349a81"
      },
      "outputs": [
        {
          "output_type": "execute_result",
          "data": {
            "text/plain": [
              "<matplotlib.axes._subplots.AxesSubplot at 0x7fe4b0c38810>"
            ]
          },
          "metadata": {},
          "execution_count": 18
        },
        {
          "output_type": "display_data",
          "data": {
            "text/plain": [
              "<Figure size 720x288 with 1 Axes>"
            ],
            "image/png": "[encoded data removed]"
          },
          "metadata": {
            "needs_background": "light"
          }
        }
      ],
      "source": [
        "df['close'].plot(figsize = (10,4))"
      ],
      "id": "0eaf84fe"
    },
    {
      "cell_type": "code",
      "execution_count": null,
      "metadata": {
        "id": "J9xSiojHUJaO"
      },
      "outputs": [],
      "source": [
        "weekly_mean = df.rolling(7).mean()\n",
        "quarterly_mean = df.rolling(90).mean()\n",
        "annual_mean = df.rolling(365).mean()"
      ],
      "id": "J9xSiojHUJaO"
    },
    {
      "cell_type": "code",
      "execution_count": null,
      "metadata": {
        "id": "BY-qRFZNUJgM"
      },
      "outputs": [],
      "source": [
        "df[\"weekly_mean\"] = weekly_mean[\"close\"] / df[\"close\"]\n",
        "df[\"quarterly_mean\"] = quarterly_mean[\"close\"] / df[\"close\"]\n",
        "df[\"annual_mean\"] = annual_mean[\"close\"] / df[\"close\"]"
      ],
      "id": "BY-qRFZNUJgM"
    },
    {
      "cell_type": "code",
      "execution_count": null,
      "metadata": {
        "colab": {
          "base_uri": "https://localhost:8080/",
          "height": 397
        },
        "id": "Or5IdvDDU1Jn",
        "outputId": "fadca176-e81d-418b-c909-c8f6a0455cb1"
      },
      "outputs": [
        {
          "output_type": "execute_result",
          "data": {
            "text/plain": [
              "<matplotlib.axes._subplots.AxesSubplot at 0x7f6a12278750>"
            ]
          },
          "metadata": {},
          "execution_count": 18
        },
        {
          "output_type": "display_data",
          "data": {
            "text/plain": [
              "<Figure size 1440x432 with 1 Axes>"
            ],
            "image/png": "[encoded data removed]"
          },
          "metadata": {
            "needs_background": "light"
          }
        }
      ],
      "source": [
        "df[\"weekly_mean\"].plot(figsize =(20,6), xlim =['2021-11','2022-01'])"
      ],
      "id": "Or5IdvDDU1Jn"
    },
    {
      "cell_type": "code",
      "execution_count": null,
      "metadata": {
        "colab": {
          "base_uri": "https://localhost:8080/",
          "height": 393
        },
        "id": "3cBSVsxGVIJ0",
        "outputId": "903f541a-9022-4c3e-aec9-e2433b78875b"
      },
      "outputs": [
        {
          "output_type": "execute_result",
          "data": {
            "text/plain": [
              "<matplotlib.axes._subplots.AxesSubplot at 0x7f6a11da1490>"
            ]
          },
          "metadata": {},
          "execution_count": 19
        },
        {
          "output_type": "display_data",
          "data": {
            "text/plain": [
              "<Figure size 1440x432 with 1 Axes>"
            ],
            "image/png": "[encoded data removed]"
          },
          "metadata": {
            "needs_background": "light"
          }
        }
      ],
      "source": [
        "df[\"quarterly_mean\"].plot(figsize =(20,6),xlim =['2021-11','2022-01'])"
      ],
      "id": "3cBSVsxGVIJ0"
    },
    {
      "cell_type": "code",
      "execution_count": null,
      "metadata": {
        "colab": {
          "base_uri": "https://localhost:8080/",
          "height": 393
        },
        "id": "rP1TKnySVIYl",
        "outputId": "686f83ee-f563-4cc6-962a-9ab0ba404a16"
      },
      "outputs": [
        {
          "output_type": "execute_result",
          "data": {
            "text/plain": [
              "<matplotlib.axes._subplots.AxesSubplot at 0x7f6a11d39910>"
            ]
          },
          "metadata": {},
          "execution_count": 20
        },
        {
          "output_type": "display_data",
          "data": {
            "text/plain": [
              "<Figure size 1440x432 with 1 Axes>"
            ],
            "image/png": "[encoded data removed]"
          },
          "metadata": {
            "needs_background": "light"
          }
        }
      ],
      "source": [
        "df[\"annual_mean\"].plot(figsize =(20,6), xlim = ['2021-11','2022-01'])"
      ],
      "id": "rP1TKnySVIYl"
    },
    {
      "cell_type": "code",
      "execution_count": null,
      "metadata": {
        "id": "3ONPwdpcaASU"
      },
      "outputs": [],
      "source": [
        "df1=df.reset_index()['close']"
      ],
      "id": "3ONPwdpcaASU"
    },
    {
      "cell_type": "code",
      "execution_count": null,
      "metadata": {
        "id": "jZOdb4djbguk"
      },
      "outputs": [],
      "source": [
        "from sklearn.preprocessing import MinMaxScaler\n",
        "scaler=MinMaxScaler()\n",
        "df1=scaler.fit_transform(np.array(df1).reshape(-1,1))"
      ],
      "id": "jZOdb4djbguk"
    },
    {
      "cell_type": "code",
      "execution_count": null,
      "metadata": {
        "id": "iVLdTAczbqZQ"
      },
      "outputs": [],
      "source": [
        "##splitting dataset into train and test split\n",
        "training_size=int(len(df1)*0.80)\n",
        "test_size=len(df1)-training_size\n",
        "train_data,test_data=df1[0:training_size,:],df1[training_size:len(df1),:1]"
      ],
      "id": "iVLdTAczbqZQ"
    },
    {
      "cell_type": "code",
      "execution_count": null,
      "metadata": {
        "id": "YweK6jgKbtuG"
      },
      "outputs": [],
      "source": [
        "import numpy\n",
        "# convert an array of values into a dataset matrix\n",
        "def create_dataset(dataset, time_step=1):\n",
        "\tdataX, dataY = [], []\n",
        "\tfor i in range(len(dataset)-time_step-1):\n",
        "\t\ta = dataset[i:(i+time_step), 0]   ###i=0, 0,1,2,3-----99   100 \n",
        "\t\tdataX.append(a)\n",
        "\t\tdataY.append(dataset[i + time_step, 0])\n",
        "\treturn numpy.array(dataX), numpy.array(dataY)"
      ],
      "id": "YweK6jgKbtuG"
    },
    {
      "cell_type": "code",
      "execution_count": null,
      "metadata": {
        "id": "hYDTbMAsbtxc"
      },
      "outputs": [],
      "source": [
        "# reshape into X=t,t+1,t+2,t+3 and Y=t+4\n",
        "time_step = 100\n",
        "X_train, y_train = create_dataset(train_data, time_step)\n",
        "X_test, ytest = create_dataset(test_data, time_step)"
      ],
      "id": "hYDTbMAsbtxc"
    },
    {
      "cell_type": "markdown",
      "source": [
        "SVR\n"
      ],
      "metadata": {
        "id": "KcWdjo6tzowY"
      },
      "id": "KcWdjo6tzowY"
    },
    {
      "cell_type": "code",
      "source": [
        "import math\n",
        "from sklearn.metrics import mean_squared_error"
      ],
      "metadata": {
        "id": "hdk0x47FgjwV"
      },
      "id": "hdk0x47FgjwV",
      "execution_count": null,
      "outputs": []
    },
    {
      "cell_type": "code",
      "source": [
        "import time\n",
        "from sklearn.metrics import mean_absolute_error\n",
        "def launch_model(name,model, X_train, y_train, X_test, ytest):\n",
        "    start = time.time()\n",
        "    model.fit(X_train, y_train)\n",
        "    y_pred = model.predict(X_test)\n",
        "    ypred_train = model.predict(X_train)\n",
        "    print ('MSE train', mean_absolute_error(y_train, ypred_train))\n",
        "    print ('MSE test', mean_absolute_error(ytest, y_pred))\n",
        "    print ('RMSE', math.sqrt(mean_squared_error(ytest,y_pred)))\n",
        "    r_2 = model.score(X_test, ytest)\n",
        "    print ('R^2 test', r_2)\n",
        "    return name + '($R^2={:.3f}$)'.format(r_2), np.array(ytest), y_pred"
      ],
      "metadata": {
        "id": "643_PsNGrLOZ"
      },
      "id": "643_PsNGrLOZ",
      "execution_count": null,
      "outputs": []
    },
    {
      "cell_type": "code",
      "source": [
        "from sklearn.svm import SVR\n",
        "svr_rbf = SVR(kernel='rbf', gamma=0.1)\n",
        "print ('-----------')\n",
        "print ('SVR - RBF')\n",
        "print ('-----------')\n",
        "results = launch_model('SVR - RBF', svr_rbf, X_train, y_train, X_test, ytest)"
      ],
      "metadata": {
        "colab": {
          "base_uri": "https://localhost:8080/"
        },
        "id": "CDHd5KmxrLWi",
        "outputId": "df7a633c-17f6-42f5-9110-6566a82b3482"
      },
      "id": "CDHd5KmxrLWi",
      "execution_count": null,
      "outputs": [
        {
          "output_type": "stream",
          "name": "stdout",
          "text": [
            "-----------\n",
            "SVR - RBF\n",
            "-----------\n",
            "MSE train 0.03799129804189213\n",
            "MSE test 0.06187369278788084\n",
            "RMSE 0.09366280287968835\n",
            "R^2 test 0.5752998997758615\n"
          ]
        }
      ]
    },
    {
      "cell_type": "markdown",
      "source": [
        "MLP Regressor\n"
      ],
      "metadata": {
        "id": "3Qv16PYRzvgc"
      },
      "id": "3Qv16PYRzvgc"
    },
    {
      "cell_type": "code",
      "source": [
        "from sklearn.neural_network import MLPRegressor\n",
        "\n",
        "regr = MLPRegressor(activation='tanh', alpha= 0.05, hidden_layer_sizes= (50, 50, 50), learning_rate= 'adaptive', solver= 'adam', max_iter=500).fit(X_train, y_train)\n",
        "y_pred=regr.predict(X_test)"
      ],
      "metadata": {
        "id": "V3djPhJZtbaS"
      },
      "id": "V3djPhJZtbaS",
      "execution_count": null,
      "outputs": []
    },
    {
      "cell_type": "code",
      "source": [
        "from sklearn.metrics import r2_score\n",
        "print(\"R2 : \", r2_score(y_pred, ytest)*100, '%')"
      ],
      "metadata": {
        "colab": {
          "base_uri": "https://localhost:8080/"
        },
        "id": "dEoShKrdtbtc",
        "outputId": "a60e529f-6655-4434-9a8f-dba1d4230a17"
      },
      "id": "dEoShKrdtbtc",
      "execution_count": null,
      "outputs": [
        {
          "output_type": "stream",
          "name": "stdout",
          "text": [
            "R2 :  69.83468625405582 %\n"
          ]
        }
      ]
    },
    {
      "cell_type": "code",
      "source": [
        "from sklearn import metrics\n",
        "print('Mean Absolute Error:',metrics.mean_absolute_error(ytest,y_pred))\n",
        "print('Mean Squared Error:',metrics.mean_squared_error(ytest,y_pred))\n",
        "print('Root Mean Squared Error:',np.sqrt(metrics.mean_squared_error(ytest,y_pred)))\n",
        "print('Explained Variance Score:',metrics.explained_variance_score(ytest,y_pred))"
      ],
      "metadata": {
        "colab": {
          "base_uri": "https://localhost:8080/"
        },
        "id": "nrGwebBWtwxO",
        "outputId": "eb3daa62-af2f-4988-ceac-2c5a499ffed6"
      },
      "id": "nrGwebBWtwxO",
      "execution_count": null,
      "outputs": [
        {
          "output_type": "stream",
          "name": "stdout",
          "text": [
            "Mean Absolute Error: 0.05213982222239735\n",
            "Mean Squared Error: 0.003892019802106522\n",
            "Root Mean Squared Error: 0.062386054548324514\n",
            "Explained Variance Score: 0.9339268475702673\n"
          ]
        }
      ]
    },
    {
      "cell_type": "markdown",
      "source": [
        "Linear Regression"
      ],
      "metadata": {
        "id": "6j7ITtTIz64k"
      },
      "id": "6j7ITtTIz64k"
    },
    {
      "cell_type": "code",
      "source": [
        "from sklearn.linear_model import LinearRegression\n",
        "\n",
        "l_reg = LinearRegression()\n",
        "l_reg.fit(X_train, y_train)"
      ],
      "metadata": {
        "colab": {
          "base_uri": "https://localhost:8080/"
        },
        "id": "bsgCoKxCtw9l",
        "outputId": "b9843455-fef3-4b03-d332-45f0a7a2d6dd"
      },
      "id": "bsgCoKxCtw9l",
      "execution_count": null,
      "outputs": [
        {
          "output_type": "execute_result",
          "data": {
            "text/plain": [
              "LinearRegression()"
            ]
          },
          "metadata": {},
          "execution_count": 31
        }
      ]
    },
    {
      "cell_type": "code",
      "source": [
        "print('Training Score: ', round(l_reg.score(X_train,y_train)*100,2),'%')\n",
        "print('Testing Score: ', round(l_reg.score(X_test,ytest)*100,2))\n"
      ],
      "metadata": {
        "colab": {
          "base_uri": "https://localhost:8080/"
        },
        "id": "hxAShl96t7nX",
        "outputId": "27d01375-1c0f-4175-c454-382c820027e8"
      },
      "id": "hxAShl96t7nX",
      "execution_count": null,
      "outputs": [
        {
          "output_type": "stream",
          "name": "stdout",
          "text": [
            "Training Score:  99.97 %\n",
            "Testing Score:  99.83\n"
          ]
        }
      ]
    },
    {
      "cell_type": "code",
      "source": [
        "y_pred = l_reg.predict(X_test)\n",
        "y_pred"
      ],
      "metadata": {
        "colab": {
          "base_uri": "https://localhost:8080/"
        },
        "id": "XvKfSDM4t7qa",
        "outputId": "6868e68c-0d5d-4cf8-88fc-afea55a3765d"
      },
      "id": "XvKfSDM4t7qa",
      "execution_count": null,
      "outputs": [
        {
          "output_type": "execute_result",
          "data": {
            "text/plain": [
              "array([0.66388073, 0.64760295, 0.63598931, ..., 0.58859017, 0.58337596,\n",
              "       0.58994198])"
            ]
          },
          "metadata": {},
          "execution_count": 33
        }
      ]
    },
    {
      "cell_type": "code",
      "source": [
        "print(\"R2 : \", r2_score(y_pred, ytest)*100, '%')"
      ],
      "metadata": {
        "colab": {
          "base_uri": "https://localhost:8080/"
        },
        "id": "bdg3bYO-t7t1",
        "outputId": "e93cf428-5c76-41c6-883d-2fc8614c9959"
      },
      "id": "bdg3bYO-t7t1",
      "execution_count": null,
      "outputs": [
        {
          "output_type": "stream",
          "name": "stdout",
          "text": [
            "R2 :  99.82686519618869 %\n"
          ]
        }
      ]
    },
    {
      "cell_type": "code",
      "source": [
        "df_pred = pd.DataFrame({ 'Real Bitcoin Price': ytest, 'Predicted Bitcoin Price': y_pred})  \n",
        "df_pred"
      ],
      "metadata": {
        "colab": {
          "base_uri": "https://localhost:8080/",
          "height": 423
        },
        "id": "XLHXbluht7xV",
        "outputId": "9ecc1bc2-85b1-45e1-f43a-bb03e03c1931"
      },
      "id": "XLHXbluht7xV",
      "execution_count": null,
      "outputs": [
        {
          "output_type": "execute_result",
          "data": {
            "text/plain": [
              "      Real Bitcoin Price  Predicted Bitcoin Price\n",
              "0               0.646404                 0.663881\n",
              "1               0.634716                 0.647603\n",
              "2               0.630987                 0.635989\n",
              "3               0.637183                 0.634350\n",
              "4               0.630809                 0.636066\n",
              "...                  ...                      ...\n",
              "7587            0.582297                 0.594103\n",
              "7588            0.588690                 0.584011\n",
              "7589            0.584012                 0.588590\n",
              "7590            0.590366                 0.583376\n",
              "7591            0.590357                 0.589942\n",
              "\n",
              "[7592 rows x 2 columns]"
            ],
            "text/html": [
              "\n",
              "  <div id=\"df-ee58f5a4-1c8c-4dd3-beb6-128669db2e99\">\n",
              "    <div class=\"colab-df-container\">\n",
              "      <div>\n",
              "<style scoped>\n",
              "    .dataframe tbody tr th:only-of-type {\n",
              "        vertical-align: middle;\n",
              "    }\n",
              "\n",
              "    .dataframe tbody tr th {\n",
              "        vertical-align: top;\n",
              "    }\n",
              "\n",
              "    .dataframe thead th {\n",
              "        text-align: right;\n",
              "    }\n",
              "</style>\n",
              "<table border=\"1\" class=\"dataframe\">\n",
              "  <thead>\n",
              "    <tr style=\"text-align: right;\">\n",
              "      <th></th>\n",
              "      <th>Real Bitcoin Price</th>\n",
              "      <th>Predicted Bitcoin Price</th>\n",
              "    </tr>\n",
              "  </thead>\n",
              "  <tbody>\n",
              "    <tr>\n",
              "      <th>0</th>\n",
              "      <td>0.646404</td>\n",
              "      <td>0.663881</td>\n",
              "    </tr>\n",
              "    <tr>\n",
              "      <th>1</th>\n",
              "      <td>0.634716</td>\n",
              "      <td>0.647603</td>\n",
              "    </tr>\n",
              "    <tr>\n",
              "      <th>2</th>\n",
              "      <td>0.630987</td>\n",
              "      <td>0.635989</td>\n",
              "    </tr>\n",
              "    <tr>\n",
              "      <th>3</th>\n",
              "      <td>0.637183</td>\n",
              "      <td>0.634350</td>\n",
              "    </tr>\n",
              "    <tr>\n",
              "      <th>4</th>\n",
              "      <td>0.630809</td>\n",
              "      <td>0.636066</td>\n",
              "    </tr>\n",
              "    <tr>\n",
              "      <th>...</th>\n",
              "      <td>...</td>\n",
              "      <td>...</td>\n",
              "    </tr>\n",
              "    <tr>\n",
              "      <th>7587</th>\n",
              "      <td>0.582297</td>\n",
              "      <td>0.594103</td>\n",
              "    </tr>\n",
              "    <tr>\n",
              "      <th>7588</th>\n",
              "      <td>0.588690</td>\n",
              "      <td>0.584011</td>\n",
              "    </tr>\n",
              "    <tr>\n",
              "      <th>7589</th>\n",
              "      <td>0.584012</td>\n",
              "      <td>0.588590</td>\n",
              "    </tr>\n",
              "    <tr>\n",
              "      <th>7590</th>\n",
              "      <td>0.590366</td>\n",
              "      <td>0.583376</td>\n",
              "    </tr>\n",
              "    <tr>\n",
              "      <th>7591</th>\n",
              "      <td>0.590357</td>\n",
              "      <td>0.589942</td>\n",
              "    </tr>\n",
              "  </tbody>\n",
              "</table>\n",
              "<p>7592 rows × 2 columns</p>\n",
              "</div>\n",
              "      <button class=\"colab-df-convert\" onclick=\"convertToInteractive('df-ee58f5a4-1c8c-4dd3-beb6-128669db2e99')\"\n",
              "              title=\"Convert this dataframe to an interactive table.\"\n",
              "              style=\"display:none;\">\n",
              "        \n",
              "  <svg xmlns=\"http://www.w3.org/2000/svg\" height=\"24px\"viewBox=\"0 0 24 24\"\n",
              "       width=\"24px\">\n",
              "    <path d=\"M0 0h24v24H0V0z\" fill=\"none\"/>\n",
              "    <path d=\"M18.56 5.44l.94 2.06.94-2.06 2.06-.94-2.06-.94-.94-2.06-.94 2.06-2.06.94zm-11 1L8.5 8.5l.94-2.06 2.06-.94-2.06-.94L8.5 2.5l-.94 2.06-2.06.94zm10 10l.94 2.06.94-2.06 2.06-.94-2.06-.94-.94-2.06-.94 2.06-2.06.94z\"/><path d=\"M17.41 7.96l-1.37-1.37c-.4-.4-.92-.59-1.43-.59-.52 0-1.04.2-1.43.59L10.3 9.45l-7.72 7.72c-.78.78-.78 2.05 0 2.83L4 21.41c.39.39.9.59 1.41.59.51 0 1.02-.2 1.41-.59l7.78-7.78 2.81-2.81c.8-.78.8-2.07 0-2.86zM5.41 20L4 18.59l7.72-7.72 1.47 1.35L5.41 20z\"/>\n",
              "  </svg>\n",
              "      </button>\n",
              "      \n",
              "  <style>\n",
              "    .colab-df-container {\n",
              "      display:flex;\n",
              "      flex-wrap:wrap;\n",
              "      gap: 12px;\n",
              "    }\n",
              "\n",
              "    .colab-df-convert {\n",
              "      background-color: #E8F0FE;\n",
              "      border: none;\n",
              "      border-radius: 50%;\n",
              "      cursor: pointer;\n",
              "      display: none;\n",
              "      fill: #1967D2;\n",
              "      height: 32px;\n",
              "      padding: 0 0 0 0;\n",
              "      width: 32px;\n",
              "    }\n",
              "\n",
              "    .colab-df-convert:hover {\n",
              "      background-color: #E2EBFA;\n",
              "      box-shadow: 0px 1px 2px rgba(60, 64, 67, 0.3), 0px 1px 3px 1px rgba(60, 64, 67, 0.15);\n",
              "      fill: #174EA6;\n",
              "    }\n",
              "\n",
              "    [theme=dark] .colab-df-convert {\n",
              "      background-color: #3B4455;\n",
              "      fill: #D2E3FC;\n",
              "    }\n",
              "\n",
              "    [theme=dark] .colab-df-convert:hover {\n",
              "      background-color: #434B5C;\n",
              "      box-shadow: 0px 1px 3px 1px rgba(0, 0, 0, 0.15);\n",
              "      filter: drop-shadow(0px 1px 2px rgba(0, 0, 0, 0.3));\n",
              "      fill: #FFFFFF;\n",
              "    }\n",
              "  </style>\n",
              "\n",
              "      <script>\n",
              "        const buttonEl =\n",
              "          document.querySelector('#df-ee58f5a4-1c8c-4dd3-beb6-128669db2e99 button.colab-df-convert');\n",
              "        buttonEl.style.display =\n",
              "          google.colab.kernel.accessAllowed ? 'block' : 'none';\n",
              "\n",
              "        async function convertToInteractive(key) {\n",
              "          const element = document.querySelector('#df-ee58f5a4-1c8c-4dd3-beb6-128669db2e99');\n",
              "          const dataTable =\n",
              "            await google.colab.kernel.invokeFunction('convertToInteractive',\n",
              "                                                     [key], {});\n",
              "          if (!dataTable) return;\n",
              "\n",
              "          const docLinkHtml = 'Like what you see? Visit the ' +\n",
              "            '<a target=\"_blank\" href=https://colab.research.google.com/notebooks/data_table.ipynb>data table notebook</a>'\n",
              "            + ' to learn more about interactive tables.';\n",
              "          element.innerHTML = '';\n",
              "          dataTable['output_type'] = 'display_data';\n",
              "          await google.colab.output.renderOutput(dataTable, element);\n",
              "          const docLink = document.createElement('div');\n",
              "          docLink.innerHTML = docLinkHtml;\n",
              "          element.appendChild(docLink);\n",
              "        }\n",
              "      </script>\n",
              "    </div>\n",
              "  </div>\n",
              "  "
            ]
          },
          "metadata": {},
          "execution_count": 35
        }
      ]
    },
    {
      "cell_type": "code",
      "source": [
        "from sklearn import metrics\n",
        "print('Mean Absolute Error:',round(metrics.mean_absolute_error(ytest,y_pred),2))\n",
        "print('Mean Squared Error:',round(metrics.mean_squared_error(ytest,y_pred),2))\n",
        "print('Root Mean Squared Error:',round(np.sqrt(metrics.mean_squared_error(ytest,y_pred)),2))\n",
        "print('Explained Variance Score:',metrics.explained_variance_score(ytest,y_pred))"
      ],
      "metadata": {
        "colab": {
          "base_uri": "https://localhost:8080/"
        },
        "id": "jZNycr1zvkNp",
        "outputId": "4aa163d4-6e84-4f4e-c651-467b94db5be9"
      },
      "id": "jZNycr1zvkNp",
      "execution_count": null,
      "outputs": [
        {
          "output_type": "stream",
          "name": "stdout",
          "text": [
            "Mean Absolute Error: 0.0\n",
            "Mean Squared Error: 0.0\n",
            "Root Mean Squared Error: 0.01\n",
            "Explained Variance Score: 0.9982721672452618\n"
          ]
        }
      ]
    },
    {
      "cell_type": "markdown",
      "source": [
        "RANDOM FOREST REGRESSION"
      ],
      "metadata": {
        "id": "EdLkfql70a2F"
      },
      "id": "EdLkfql70a2F"
    },
    {
      "cell_type": "code",
      "source": [
        "from sklearn.ensemble import RandomForestRegressor"
      ],
      "metadata": {
        "id": "2iTVQsSbuiNQ"
      },
      "id": "2iTVQsSbuiNQ",
      "execution_count": null,
      "outputs": []
    },
    {
      "cell_type": "code",
      "source": [
        "rf = RandomForestRegressor(n_estimators = 100, random_state = 10, max_depth= 5)\n",
        "rf.fit(X_train, y_train)"
      ],
      "metadata": {
        "colab": {
          "base_uri": "https://localhost:8080/"
        },
        "id": "LyAgbQRWuib1",
        "outputId": "e143092b-6abd-418c-fdec-033f6dbf9697"
      },
      "id": "LyAgbQRWuib1",
      "execution_count": null,
      "outputs": [
        {
          "output_type": "execute_result",
          "data": {
            "text/plain": [
              "RandomForestRegressor(max_depth=5, random_state=10)"
            ]
          },
          "metadata": {},
          "execution_count": 38
        }
      ]
    },
    {
      "cell_type": "code",
      "source": [
        "print('Training Score: ',round(rf.score(X_train,y_train)*100,2),'%')\n",
        "print('Testing Score: ',round(rf.score(X_test,ytest)*100,2))\n"
      ],
      "metadata": {
        "colab": {
          "base_uri": "https://localhost:8080/"
        },
        "id": "gFAUd4YziX-e",
        "outputId": "5604675e-ffd6-47d5-d3c2-de44d939814f"
      },
      "id": "gFAUd4YziX-e",
      "execution_count": null,
      "outputs": [
        {
          "output_type": "stream",
          "name": "stdout",
          "text": [
            "Training Score:  99.86 %\n",
            "Testing Score:  94.02\n"
          ]
        }
      ]
    },
    {
      "cell_type": "code",
      "source": [
        "y_pred = rf.predict(X_test)\n",
        "y_pred"
      ],
      "metadata": {
        "colab": {
          "base_uri": "https://localhost:8080/"
        },
        "id": "hjaQ5NgbiHQT",
        "outputId": "49e69bf9-9a59-4666-e8e4-9741d4624c7c"
      },
      "id": "hjaQ5NgbiHQT",
      "execution_count": null,
      "outputs": [
        {
          "output_type": "execute_result",
          "data": {
            "text/plain": [
              "array([0.67344622, 0.67013514, 0.64818209, ..., 0.61505387, 0.61969508,\n",
              "       0.6153526 ])"
            ]
          },
          "metadata": {},
          "execution_count": 40
        }
      ]
    },
    {
      "cell_type": "code",
      "source": [
        "from sklearn.metrics import r2_score\n",
        "print(\"R2 : \", r2_score(y_pred, ytest)*100, '%')"
      ],
      "metadata": {
        "colab": {
          "base_uri": "https://localhost:8080/"
        },
        "id": "M4sAqka0us3h",
        "outputId": "19741df6-e272-4915-88ac-3c84196dda91"
      },
      "id": "M4sAqka0us3h",
      "execution_count": null,
      "outputs": [
        {
          "output_type": "stream",
          "name": "stdout",
          "text": [
            "R2 :  92.15223903146511 %\n"
          ]
        }
      ]
    },
    {
      "cell_type": "code",
      "source": [
        "from sklearn import metrics\n",
        "print('Mean Absolute Error:',round(metrics.mean_absolute_error(ytest,y_pred),2))\n",
        "print('Mean Squared Error:',round(metrics.mean_squared_error(ytest,y_pred),2))\n",
        "print('Root Mean Squared Error:',round(np.sqrt(metrics.mean_squared_error(ytest,y_pred)),2))\n",
        "print('Explained Variance Score:',metrics.explained_variance_score(ytest,y_pred))"
      ],
      "metadata": {
        "colab": {
          "base_uri": "https://localhost:8080/"
        },
        "id": "xT5f1sq6vbDv",
        "outputId": "f1cac5e6-9219-4c07-be97-5543f0d71e0f"
      },
      "id": "xT5f1sq6vbDv",
      "execution_count": null,
      "outputs": [
        {
          "output_type": "stream",
          "name": "stdout",
          "text": [
            "Mean Absolute Error: 0.02\n",
            "Mean Squared Error: 0.0\n",
            "Root Mean Squared Error: 0.04\n",
            "Explained Variance Score: 0.9455402634615597\n"
          ]
        }
      ]
    },
    {
      "cell_type": "markdown",
      "source": [
        "LSTM"
      ],
      "metadata": {
        "id": "tcdN-1Lv0j5w"
      },
      "id": "tcdN-1Lv0j5w"
    },
    {
      "cell_type": "code",
      "execution_count": null,
      "metadata": {
        "id": "VRLtzS9icB2y"
      },
      "outputs": [],
      "source": [
        "# reshape input to be [samples, time steps, features] which is required for LSTM\n",
        "X_train =X_train.reshape(X_train.shape[0],X_train.shape[1] , 1)\n",
        "X_test = X_test.reshape(X_test.shape[0],X_test.shape[1] , 1)"
      ],
      "id": "VRLtzS9icB2y"
    },
    {
      "cell_type": "code",
      "execution_count": null,
      "metadata": {
        "id": "xNbRW0x9cFRu"
      },
      "outputs": [],
      "source": [
        "### Create the Stacked LSTM model\n",
        "from tensorflow.keras.models import Sequential\n",
        "from tensorflow.keras.layers import Dense, Dropout\n",
        "from tensorflow.keras.layers import LSTM"
      ],
      "id": "xNbRW0x9cFRu"
    },
    {
      "cell_type": "code",
      "execution_count": null,
      "metadata": {
        "id": "O2J6gtvncFh9"
      },
      "outputs": [],
      "source": [
        "model=Sequential()\n",
        "model.add(LSTM(128,activation='sigmoid', return_sequences=True,input_shape=(100,1)))\n",
        "model.add(Dropout(.5))\n",
        "model.add(LSTM(50,return_sequences=True))\n",
        "model.add(LSTM(50))\n",
        "model.add(Dense(1))\n",
        "model.compile(loss='mean_squared_error',optimizer='adam')"
      ],
      "id": "O2J6gtvncFh9"
    },
    {
      "cell_type": "code",
      "source": [
        "history = model.fit(X_train, y_train, epochs=3, batch_size=64, verbose=1, validation_data=(X_test,ytest))\n",
        "plt.plot(history.history['loss'])\n",
        "plt.plot(history.history['val_loss'])\n",
        "plt.title('model loss')\n",
        "plt.ylabel('loss')\n",
        "plt.xlabel('epoch')\n",
        "plt.legend(['train', 'val'], loc='upper left')\n",
        "plt.show()"
      ],
      "metadata": {
        "colab": {
          "base_uri": "https://localhost:8080/",
          "height": 399
        },
        "id": "m0r1g9BKRZdx",
        "outputId": "14b4897a-0217-4304-ba4f-97b0dd56fa11"
      },
      "id": "m0r1g9BKRZdx",
      "execution_count": null,
      "outputs": [
        {
          "output_type": "stream",
          "name": "stdout",
          "text": [
            "Epoch 1/3\n",
            "480/480 [==============================] - 166s 332ms/step - loss: 0.0101 - val_loss: 0.0052\n",
            "Epoch 2/3\n",
            "480/480 [==============================] - 164s 342ms/step - loss: 7.5197e-04 - val_loss: 0.0025\n",
            "Epoch 3/3\n",
            "480/480 [==============================] - 158s 330ms/step - loss: 3.9990e-04 - val_loss: 8.0769e-04\n"
          ]
        },
        {
          "output_type": "display_data",
          "data": {
            "text/plain": [
              "<Figure size 432x288 with 1 Axes>"
            ],
            "image/png": "[encoded data removed]"
          },
          "metadata": {
            "needs_background": "light"
          }
        }
      ]
    },
    {
      "cell_type": "code",
      "execution_count": null,
      "metadata": {
        "colab": {
          "base_uri": "https://localhost:8080/"
        },
        "id": "KS3O5IwjcNcR",
        "outputId": "21ecc618-8166-47c6-913a-8daff9dba9bc"
      },
      "outputs": [
        {
          "output_type": "stream",
          "name": "stdout",
          "text": [
            "Model: \"sequential\"\n",
            "_________________________________________________________________\n",
            " Layer (type)                Output Shape              Param #   \n",
            "=================================================================\n",
            " lstm (LSTM)                 (None, 100, 128)          66560     \n",
            "                                                                 \n",
            " dropout (Dropout)           (None, 100, 128)          0         \n",
            "                                                                 \n",
            " lstm_1 (LSTM)               (None, 100, 50)           35800     \n",
            "                                                                 \n",
            " lstm_2 (LSTM)               (None, 50)                20200     \n",
            "                                                                 \n",
            " dense (Dense)               (None, 1)                 51        \n",
            "                                                                 \n",
            "=================================================================\n",
            "Total params: 122,611\n",
            "Trainable params: 122,611\n",
            "Non-trainable params: 0\n",
            "_________________________________________________________________\n"
          ]
        }
      ],
      "source": [
        "model.summary()"
      ],
      "id": "KS3O5IwjcNcR"
    },
    {
      "cell_type": "code",
      "execution_count": null,
      "metadata": {
        "id": "-qfRw1-HcqGI"
      },
      "outputs": [],
      "source": [
        "import tensorflow as tf"
      ],
      "id": "-qfRw1-HcqGI"
    },
    {
      "cell_type": "code",
      "execution_count": null,
      "metadata": {
        "id": "c-ZFUn-9cqUo"
      },
      "outputs": [],
      "source": [
        "### Lets Do the prediction and check performance metrics\n",
        "train_predict=model.predict(X_train)\n",
        "test_predict=model.predict(X_test)\n"
      ],
      "id": "c-ZFUn-9cqUo"
    },
    {
      "cell_type": "code",
      "execution_count": null,
      "metadata": {
        "id": "iW56cB--c0GT",
        "colab": {
          "base_uri": "https://localhost:8080/"
        },
        "outputId": "c1eb4793-af24-4132-c17d-a729cf9ad4f2"
      },
      "outputs": [
        {
          "output_type": "execute_result",
          "data": {
            "text/plain": [
              "0.032890748820824454"
            ]
          },
          "metadata": {},
          "execution_count": 50
        }
      ],
      "source": [
        "### Calculate RMSE performance metrics\n",
        "import math\n",
        "from sklearn.metrics import mean_squared_error\n",
        "math.sqrt(mean_squared_error(y_train,train_predict))"
      ],
      "id": "iW56cB--c0GT"
    },
    {
      "cell_type": "code",
      "execution_count": null,
      "metadata": {
        "id": "2v98neHec0Iz",
        "colab": {
          "base_uri": "https://localhost:8080/"
        },
        "outputId": "d3f10abe-b200-4f7f-e6fd-f40579dbed72"
      },
      "outputs": [
        {
          "output_type": "execute_result",
          "data": {
            "text/plain": [
              "0.028419932011373536"
            ]
          },
          "metadata": {},
          "execution_count": 51
        }
      ],
      "source": [
        "### Test Data RMSE\n",
        "math.sqrt(mean_squared_error(ytest,test_predict))"
      ],
      "id": "2v98neHec0Iz"
    },
    {
      "cell_type": "code",
      "source": [
        "print(\"R2 : \", r2_score(ytest,test_predict)*100, '%')"
      ],
      "metadata": {
        "colab": {
          "base_uri": "https://localhost:8080/"
        },
        "id": "JD0YkT9-glwe",
        "outputId": "b1b641b7-5c34-4aee-ff4e-bb89558b8915"
      },
      "id": "JD0YkT9-glwe",
      "execution_count": null,
      "outputs": [
        {
          "output_type": "stream",
          "name": "stdout",
          "text": [
            "R2 :  96.08984356462858 %\n"
          ]
        }
      ]
    },
    {
      "cell_type": "code",
      "execution_count": null,
      "metadata": {
        "id": "QRI8fthSc0MJ",
        "colab": {
          "base_uri": "https://localhost:8080/",
          "height": 265
        },
        "outputId": "fc7c7324-150d-4d2a-cf30-cc3eac4a5622"
      },
      "outputs": [
        {
          "output_type": "display_data",
          "data": {
            "text/plain": [
              "<Figure size 432x288 with 1 Axes>"
            ],
            "image/png": "[encoded data removed]"
          },
          "metadata": {
            "needs_background": "light"
          }
        }
      ],
      "source": [
        "### Plotting \n",
        "# shift train predictions for plotting\n",
        "look_back=100\n",
        "trainPredictPlot = numpy.empty_like(df1)\n",
        "trainPredictPlot[:, :] = np.nan\n",
        "trainPredictPlot[look_back:len(train_predict)+look_back, :] = train_predict\n",
        "# shift test predictions for plotting\n",
        "testPredictPlot = numpy.empty_like(df1)\n",
        "testPredictPlot[:, :] = numpy.nan\n",
        "testPredictPlot[len(train_predict)+(look_back*2)+1:len(df1)-1, :] = test_predict\n",
        "# plot baseline and predictions\n",
        "plt.plot(scaler.inverse_transform(df1))\n",
        "plt.plot(scaler.inverse_transform(trainPredictPlot))\n",
        "plt.plot(scaler.inverse_transform(testPredictPlot))\n",
        "plt.show()"
      ],
      "id": "QRI8fthSc0MJ"
    },
    {
      "cell_type": "code",
      "execution_count": null,
      "metadata": {
        "id": "nqr6fTZec_V-",
        "colab": {
          "base_uri": "https://localhost:8080/"
        },
        "outputId": "ada461c2-063f-4aa3-9927-c8677f7cfd97"
      },
      "outputs": [
        {
          "output_type": "execute_result",
          "data": {
            "text/plain": [
              "(1, 100)"
            ]
          },
          "metadata": {},
          "execution_count": 54
        }
      ],
      "source": [
        "x_input=test_data[7593:].reshape(1,-1)\n",
        "x_input.shape"
      ],
      "id": "nqr6fTZec_V-"
    },
    {
      "cell_type": "code",
      "execution_count": null,
      "metadata": {
        "id": "V2RUrb6vdHk2"
      },
      "outputs": [],
      "source": [
        "temp_input=list(x_input)\n",
        "temp_input=temp_input[0].tolist()"
      ],
      "id": "V2RUrb6vdHk2"
    },
    {
      "cell_type": "code",
      "execution_count": null,
      "metadata": {
        "id": "f_qvcLl6dKQC",
        "colab": {
          "base_uri": "https://localhost:8080/"
        },
        "outputId": "cccf5652-4139-48c1-abb3-4f27641a85c2"
      },
      "outputs": [
        {
          "output_type": "stream",
          "name": "stdout",
          "text": [
            "[0.60373527]\n",
            "101\n",
            "1 day input [0.61329514 0.61176032 0.61267838 0.61117704 0.60670072 0.61005994\n",
            " 0.60686781 0.59171108 0.59014704 0.59244486 0.58754199 0.59024413\n",
            " 0.59605562 0.60113743 0.59733722 0.59864271 0.60079413 0.58693452\n",
            " 0.59310026 0.58434591 0.5967655  0.59460799 0.59025828 0.5912891\n",
            " 0.59352331 0.5928052  0.58773495 0.58811021 0.5945838  0.59293303\n",
            " 0.5929245  0.59182977 0.59319948 0.59427656 0.59352376 0.59339213\n",
            " 0.59417278 0.59719843 0.59346944 0.59379752 0.59282498 0.59326157\n",
            " 0.59077004 0.58882314 0.58475525 0.57708741 0.57461764 0.57691926\n",
            " 0.57911511 0.59119247 0.59335455 0.58983372 0.59125654 0.5918109\n",
            " 0.59621357 0.59217947 0.59591562 0.59114484 0.59278405 0.59153456\n",
            " 0.58963483 0.58725089 0.5893005  0.59254057 0.59085693 0.58664204\n",
            " 0.58764532 0.58894153 0.59688389 0.59614662 0.59420489 0.60528719\n",
            " 0.60139339 0.5992724  0.59783239 0.59264709 0.58945998 0.59189688\n",
            " 0.59360715 0.59421402 0.59755619 0.59518336 0.59356607 0.59535212\n",
            " 0.59192001 0.59160303 0.59134236 0.58809286 0.5784247  0.5760508\n",
            " 0.57624209 0.57925146 0.59325244 0.58229674 0.58868999 0.58401173\n",
            " 0.59036602 0.59035704 0.58886499 0.60373527]\n",
            "1 day output [[0.6037589]]\n",
            "2 day input [0.61176032 0.61267838 0.61117704 0.60670072 0.61005994 0.60686781\n",
            " 0.59171108 0.59014704 0.59244486 0.58754199 0.59024413 0.59605562\n",
            " 0.60113743 0.59733722 0.59864271 0.60079413 0.58693452 0.59310026\n",
            " 0.58434591 0.5967655  0.59460799 0.59025828 0.5912891  0.59352331\n",
            " 0.5928052  0.58773495 0.58811021 0.5945838  0.59293303 0.5929245\n",
            " 0.59182977 0.59319948 0.59427656 0.59352376 0.59339213 0.59417278\n",
            " 0.59719843 0.59346944 0.59379752 0.59282498 0.59326157 0.59077004\n",
            " 0.58882314 0.58475525 0.57708741 0.57461764 0.57691926 0.57911511\n",
            " 0.59119247 0.59335455 0.58983372 0.59125654 0.5918109  0.59621357\n",
            " 0.59217947 0.59591562 0.59114484 0.59278405 0.59153456 0.58963483\n",
            " 0.58725089 0.5893005  0.59254057 0.59085693 0.58664204 0.58764532\n",
            " 0.58894153 0.59688389 0.59614662 0.59420489 0.60528719 0.60139339\n",
            " 0.5992724  0.59783239 0.59264709 0.58945998 0.59189688 0.59360715\n",
            " 0.59421402 0.59755619 0.59518336 0.59356607 0.59535212 0.59192001\n",
            " 0.59160303 0.59134236 0.58809286 0.5784247  0.5760508  0.57624209\n",
            " 0.57925146 0.59325244 0.58229674 0.58868999 0.58401173 0.59036602\n",
            " 0.59035704 0.58886499 0.60373527 0.60375887]\n",
            "2 day output [[0.60392386]]\n",
            "3 day input [0.61267838 0.61117704 0.60670072 0.61005994 0.60686781 0.59171108\n",
            " 0.59014704 0.59244486 0.58754199 0.59024413 0.59605562 0.60113743\n",
            " 0.59733722 0.59864271 0.60079413 0.58693452 0.59310026 0.58434591\n",
            " 0.5967655  0.59460799 0.59025828 0.5912891  0.59352331 0.5928052\n",
            " 0.58773495 0.58811021 0.5945838  0.59293303 0.5929245  0.59182977\n",
            " 0.59319948 0.59427656 0.59352376 0.59339213 0.59417278 0.59719843\n",
            " 0.59346944 0.59379752 0.59282498 0.59326157 0.59077004 0.58882314\n",
            " 0.58475525 0.57708741 0.57461764 0.57691926 0.57911511 0.59119247\n",
            " 0.59335455 0.58983372 0.59125654 0.5918109  0.59621357 0.59217947\n",
            " 0.59591562 0.59114484 0.59278405 0.59153456 0.58963483 0.58725089\n",
            " 0.5893005  0.59254057 0.59085693 0.58664204 0.58764532 0.58894153\n",
            " 0.59688389 0.59614662 0.59420489 0.60528719 0.60139339 0.5992724\n",
            " 0.59783239 0.59264709 0.58945998 0.59189688 0.59360715 0.59421402\n",
            " 0.59755619 0.59518336 0.59356607 0.59535212 0.59192001 0.59160303\n",
            " 0.59134236 0.58809286 0.5784247  0.5760508  0.57624209 0.57925146\n",
            " 0.59325244 0.58229674 0.58868999 0.58401173 0.59036602 0.59035704\n",
            " 0.58886499 0.60373527 0.60375887 0.60392386]\n",
            "3 day output [[0.6042002]]\n",
            "4 day input [0.61117704 0.60670072 0.61005994 0.60686781 0.59171108 0.59014704\n",
            " 0.59244486 0.58754199 0.59024413 0.59605562 0.60113743 0.59733722\n",
            " 0.59864271 0.60079413 0.58693452 0.59310026 0.58434591 0.5967655\n",
            " 0.59460799 0.59025828 0.5912891  0.59352331 0.5928052  0.58773495\n",
            " 0.58811021 0.5945838  0.59293303 0.5929245  0.59182977 0.59319948\n",
            " 0.59427656 0.59352376 0.59339213 0.59417278 0.59719843 0.59346944\n",
            " 0.59379752 0.59282498 0.59326157 0.59077004 0.58882314 0.58475525\n",
            " 0.57708741 0.57461764 0.57691926 0.57911511 0.59119247 0.59335455\n",
            " 0.58983372 0.59125654 0.5918109  0.59621357 0.59217947 0.59591562\n",
            " 0.59114484 0.59278405 0.59153456 0.58963483 0.58725089 0.5893005\n",
            " 0.59254057 0.59085693 0.58664204 0.58764532 0.58894153 0.59688389\n",
            " 0.59614662 0.59420489 0.60528719 0.60139339 0.5992724  0.59783239\n",
            " 0.59264709 0.58945998 0.59189688 0.59360715 0.59421402 0.59755619\n",
            " 0.59518336 0.59356607 0.59535212 0.59192001 0.59160303 0.59134236\n",
            " 0.58809286 0.5784247  0.5760508  0.57624209 0.57925146 0.59325244\n",
            " 0.58229674 0.58868999 0.58401173 0.59036602 0.59035704 0.58886499\n",
            " 0.60373527 0.60375887 0.60392386 0.60420018]\n",
            "4 day output [[0.60456467]]\n",
            "5 day input [0.60670072 0.61005994 0.60686781 0.59171108 0.59014704 0.59244486\n",
            " 0.58754199 0.59024413 0.59605562 0.60113743 0.59733722 0.59864271\n",
            " 0.60079413 0.58693452 0.59310026 0.58434591 0.5967655  0.59460799\n",
            " 0.59025828 0.5912891  0.59352331 0.5928052  0.58773495 0.58811021\n",
            " 0.5945838  0.59293303 0.5929245  0.59182977 0.59319948 0.59427656\n",
            " 0.59352376 0.59339213 0.59417278 0.59719843 0.59346944 0.59379752\n",
            " 0.59282498 0.59326157 0.59077004 0.58882314 0.58475525 0.57708741\n",
            " 0.57461764 0.57691926 0.57911511 0.59119247 0.59335455 0.58983372\n",
            " 0.59125654 0.5918109  0.59621357 0.59217947 0.59591562 0.59114484\n",
            " 0.59278405 0.59153456 0.58963483 0.58725089 0.5893005  0.59254057\n",
            " 0.59085693 0.58664204 0.58764532 0.58894153 0.59688389 0.59614662\n",
            " 0.59420489 0.60528719 0.60139339 0.5992724  0.59783239 0.59264709\n",
            " 0.58945998 0.59189688 0.59360715 0.59421402 0.59755619 0.59518336\n",
            " 0.59356607 0.59535212 0.59192001 0.59160303 0.59134236 0.58809286\n",
            " 0.5784247  0.5760508  0.57624209 0.57925146 0.59325244 0.58229674\n",
            " 0.58868999 0.58401173 0.59036602 0.59035704 0.58886499 0.60373527\n",
            " 0.60375887 0.60392386 0.60420018 0.60456467]\n",
            "5 day output [[0.60499996]]\n",
            "6 day input [0.61005994 0.60686781 0.59171108 0.59014704 0.59244486 0.58754199\n",
            " 0.59024413 0.59605562 0.60113743 0.59733722 0.59864271 0.60079413\n",
            " 0.58693452 0.59310026 0.58434591 0.5967655  0.59460799 0.59025828\n",
            " 0.5912891  0.59352331 0.5928052  0.58773495 0.58811021 0.5945838\n",
            " 0.59293303 0.5929245  0.59182977 0.59319948 0.59427656 0.59352376\n",
            " 0.59339213 0.59417278 0.59719843 0.59346944 0.59379752 0.59282498\n",
            " 0.59326157 0.59077004 0.58882314 0.58475525 0.57708741 0.57461764\n",
            " 0.57691926 0.57911511 0.59119247 0.59335455 0.58983372 0.59125654\n",
            " 0.5918109  0.59621357 0.59217947 0.59591562 0.59114484 0.59278405\n",
            " 0.59153456 0.58963483 0.58725089 0.5893005  0.59254057 0.59085693\n",
            " 0.58664204 0.58764532 0.58894153 0.59688389 0.59614662 0.59420489\n",
            " 0.60528719 0.60139339 0.5992724  0.59783239 0.59264709 0.58945998\n",
            " 0.59189688 0.59360715 0.59421402 0.59755619 0.59518336 0.59356607\n",
            " 0.59535212 0.59192001 0.59160303 0.59134236 0.58809286 0.5784247\n",
            " 0.5760508  0.57624209 0.57925146 0.59325244 0.58229674 0.58868999\n",
            " 0.58401173 0.59036602 0.59035704 0.58886499 0.60373527 0.60375887\n",
            " 0.60392386 0.60420018 0.60456467 0.60499996]\n",
            "6 day output [[0.6054923]]\n",
            "7 day input [0.60686781 0.59171108 0.59014704 0.59244486 0.58754199 0.59024413\n",
            " 0.59605562 0.60113743 0.59733722 0.59864271 0.60079413 0.58693452\n",
            " 0.59310026 0.58434591 0.5967655  0.59460799 0.59025828 0.5912891\n",
            " 0.59352331 0.5928052  0.58773495 0.58811021 0.5945838  0.59293303\n",
            " 0.5929245  0.59182977 0.59319948 0.59427656 0.59352376 0.59339213\n",
            " 0.59417278 0.59719843 0.59346944 0.59379752 0.59282498 0.59326157\n",
            " 0.59077004 0.58882314 0.58475525 0.57708741 0.57461764 0.57691926\n",
            " 0.57911511 0.59119247 0.59335455 0.58983372 0.59125654 0.5918109\n",
            " 0.59621357 0.59217947 0.59591562 0.59114484 0.59278405 0.59153456\n",
            " 0.58963483 0.58725089 0.5893005  0.59254057 0.59085693 0.58664204\n",
            " 0.58764532 0.58894153 0.59688389 0.59614662 0.59420489 0.60528719\n",
            " 0.60139339 0.5992724  0.59783239 0.59264709 0.58945998 0.59189688\n",
            " 0.59360715 0.59421402 0.59755619 0.59518336 0.59356607 0.59535212\n",
            " 0.59192001 0.59160303 0.59134236 0.58809286 0.5784247  0.5760508\n",
            " 0.57624209 0.57925146 0.59325244 0.58229674 0.58868999 0.58401173\n",
            " 0.59036602 0.59035704 0.58886499 0.60373527 0.60375887 0.60392386\n",
            " 0.60420018 0.60456467 0.60499996 0.60549229]\n",
            "7 day output [[0.6060308]]\n",
            "8 day input [0.59171108 0.59014704 0.59244486 0.58754199 0.59024413 0.59605562\n",
            " 0.60113743 0.59733722 0.59864271 0.60079413 0.58693452 0.59310026\n",
            " 0.58434591 0.5967655  0.59460799 0.59025828 0.5912891  0.59352331\n",
            " 0.5928052  0.58773495 0.58811021 0.5945838  0.59293303 0.5929245\n",
            " 0.59182977 0.59319948 0.59427656 0.59352376 0.59339213 0.59417278\n",
            " 0.59719843 0.59346944 0.59379752 0.59282498 0.59326157 0.59077004\n",
            " 0.58882314 0.58475525 0.57708741 0.57461764 0.57691926 0.57911511\n",
            " 0.59119247 0.59335455 0.58983372 0.59125654 0.5918109  0.59621357\n",
            " 0.59217947 0.59591562 0.59114484 0.59278405 0.59153456 0.58963483\n",
            " 0.58725089 0.5893005  0.59254057 0.59085693 0.58664204 0.58764532\n",
            " 0.58894153 0.59688389 0.59614662 0.59420489 0.60528719 0.60139339\n",
            " 0.5992724  0.59783239 0.59264709 0.58945998 0.59189688 0.59360715\n",
            " 0.59421402 0.59755619 0.59518336 0.59356607 0.59535212 0.59192001\n",
            " 0.59160303 0.59134236 0.58809286 0.5784247  0.5760508  0.57624209\n",
            " 0.57925146 0.59325244 0.58229674 0.58868999 0.58401173 0.59036602\n",
            " 0.59035704 0.58886499 0.60373527 0.60375887 0.60392386 0.60420018\n",
            " 0.60456467 0.60499996 0.60549229 0.60603082]\n",
            "8 day output [[0.60660756]]\n",
            "9 day input [0.59014704 0.59244486 0.58754199 0.59024413 0.59605562 0.60113743\n",
            " 0.59733722 0.59864271 0.60079413 0.58693452 0.59310026 0.58434591\n",
            " 0.5967655  0.59460799 0.59025828 0.5912891  0.59352331 0.5928052\n",
            " 0.58773495 0.58811021 0.5945838  0.59293303 0.5929245  0.59182977\n",
            " 0.59319948 0.59427656 0.59352376 0.59339213 0.59417278 0.59719843\n",
            " 0.59346944 0.59379752 0.59282498 0.59326157 0.59077004 0.58882314\n",
            " 0.58475525 0.57708741 0.57461764 0.57691926 0.57911511 0.59119247\n",
            " 0.59335455 0.58983372 0.59125654 0.5918109  0.59621357 0.59217947\n",
            " 0.59591562 0.59114484 0.59278405 0.59153456 0.58963483 0.58725089\n",
            " 0.5893005  0.59254057 0.59085693 0.58664204 0.58764532 0.58894153\n",
            " 0.59688389 0.59614662 0.59420489 0.60528719 0.60139339 0.5992724\n",
            " 0.59783239 0.59264709 0.58945998 0.59189688 0.59360715 0.59421402\n",
            " 0.59755619 0.59518336 0.59356607 0.59535212 0.59192001 0.59160303\n",
            " 0.59134236 0.58809286 0.5784247  0.5760508  0.57624209 0.57925146\n",
            " 0.59325244 0.58229674 0.58868999 0.58401173 0.59036602 0.59035704\n",
            " 0.58886499 0.60373527 0.60375887 0.60392386 0.60420018 0.60456467\n",
            " 0.60499996 0.60549229 0.60603082 0.60660756]\n",
            "9 day output [[0.6072173]]\n",
            "10 day input [0.59244486 0.58754199 0.59024413 0.59605562 0.60113743 0.59733722\n",
            " 0.59864271 0.60079413 0.58693452 0.59310026 0.58434591 0.5967655\n",
            " 0.59460799 0.59025828 0.5912891  0.59352331 0.5928052  0.58773495\n",
            " 0.58811021 0.5945838  0.59293303 0.5929245  0.59182977 0.59319948\n",
            " 0.59427656 0.59352376 0.59339213 0.59417278 0.59719843 0.59346944\n",
            " 0.59379752 0.59282498 0.59326157 0.59077004 0.58882314 0.58475525\n",
            " 0.57708741 0.57461764 0.57691926 0.57911511 0.59119247 0.59335455\n",
            " 0.58983372 0.59125654 0.5918109  0.59621357 0.59217947 0.59591562\n",
            " 0.59114484 0.59278405 0.59153456 0.58963483 0.58725089 0.5893005\n",
            " 0.59254057 0.59085693 0.58664204 0.58764532 0.58894153 0.59688389\n",
            " 0.59614662 0.59420489 0.60528719 0.60139339 0.5992724  0.59783239\n",
            " 0.59264709 0.58945998 0.59189688 0.59360715 0.59421402 0.59755619\n",
            " 0.59518336 0.59356607 0.59535212 0.59192001 0.59160303 0.59134236\n",
            " 0.58809286 0.5784247  0.5760508  0.57624209 0.57925146 0.59325244\n",
            " 0.58229674 0.58868999 0.58401173 0.59036602 0.59035704 0.58886499\n",
            " 0.60373527 0.60375887 0.60392386 0.60420018 0.60456467 0.60499996\n",
            " 0.60549229 0.60603082 0.60660756 0.60721731]\n",
            "10 day output [[0.6078538]]\n",
            "11 day input [0.58754199 0.59024413 0.59605562 0.60113743 0.59733722 0.59864271\n",
            " 0.60079413 0.58693452 0.59310026 0.58434591 0.5967655  0.59460799\n",
            " 0.59025828 0.5912891  0.59352331 0.5928052  0.58773495 0.58811021\n",
            " 0.5945838  0.59293303 0.5929245  0.59182977 0.59319948 0.59427656\n",
            " 0.59352376 0.59339213 0.59417278 0.59719843 0.59346944 0.59379752\n",
            " 0.59282498 0.59326157 0.59077004 0.58882314 0.58475525 0.57708741\n",
            " 0.57461764 0.57691926 0.57911511 0.59119247 0.59335455 0.58983372\n",
            " 0.59125654 0.5918109  0.59621357 0.59217947 0.59591562 0.59114484\n",
            " 0.59278405 0.59153456 0.58963483 0.58725089 0.5893005  0.59254057\n",
            " 0.59085693 0.58664204 0.58764532 0.58894153 0.59688389 0.59614662\n",
            " 0.59420489 0.60528719 0.60139339 0.5992724  0.59783239 0.59264709\n",
            " 0.58945998 0.59189688 0.59360715 0.59421402 0.59755619 0.59518336\n",
            " 0.59356607 0.59535212 0.59192001 0.59160303 0.59134236 0.58809286\n",
            " 0.5784247  0.5760508  0.57624209 0.57925146 0.59325244 0.58229674\n",
            " 0.58868999 0.58401173 0.59036602 0.59035704 0.58886499 0.60373527\n",
            " 0.60375887 0.60392386 0.60420018 0.60456467 0.60499996 0.60549229\n",
            " 0.60603082 0.60660756 0.60721731 0.60785377]\n",
            "11 day output [[0.6085124]]\n",
            "12 day input [0.59024413 0.59605562 0.60113743 0.59733722 0.59864271 0.60079413\n",
            " 0.58693452 0.59310026 0.58434591 0.5967655  0.59460799 0.59025828\n",
            " 0.5912891  0.59352331 0.5928052  0.58773495 0.58811021 0.5945838\n",
            " 0.59293303 0.5929245  0.59182977 0.59319948 0.59427656 0.59352376\n",
            " 0.59339213 0.59417278 0.59719843 0.59346944 0.59379752 0.59282498\n",
            " 0.59326157 0.59077004 0.58882314 0.58475525 0.57708741 0.57461764\n",
            " 0.57691926 0.57911511 0.59119247 0.59335455 0.58983372 0.59125654\n",
            " 0.5918109  0.59621357 0.59217947 0.59591562 0.59114484 0.59278405\n",
            " 0.59153456 0.58963483 0.58725089 0.5893005  0.59254057 0.59085693\n",
            " 0.58664204 0.58764532 0.58894153 0.59688389 0.59614662 0.59420489\n",
            " 0.60528719 0.60139339 0.5992724  0.59783239 0.59264709 0.58945998\n",
            " 0.59189688 0.59360715 0.59421402 0.59755619 0.59518336 0.59356607\n",
            " 0.59535212 0.59192001 0.59160303 0.59134236 0.58809286 0.5784247\n",
            " 0.5760508  0.57624209 0.57925146 0.59325244 0.58229674 0.58868999\n",
            " 0.58401173 0.59036602 0.59035704 0.58886499 0.60373527 0.60375887\n",
            " 0.60392386 0.60420018 0.60456467 0.60499996 0.60549229 0.60603082\n",
            " 0.60660756 0.60721731 0.60785377 0.6085124 ]\n",
            "12 day output [[0.60919094]]\n",
            "13 day input [0.59605562 0.60113743 0.59733722 0.59864271 0.60079413 0.58693452\n",
            " 0.59310026 0.58434591 0.5967655  0.59460799 0.59025828 0.5912891\n",
            " 0.59352331 0.5928052  0.58773495 0.58811021 0.5945838  0.59293303\n",
            " 0.5929245  0.59182977 0.59319948 0.59427656 0.59352376 0.59339213\n",
            " 0.59417278 0.59719843 0.59346944 0.59379752 0.59282498 0.59326157\n",
            " 0.59077004 0.58882314 0.58475525 0.57708741 0.57461764 0.57691926\n",
            " 0.57911511 0.59119247 0.59335455 0.58983372 0.59125654 0.5918109\n",
            " 0.59621357 0.59217947 0.59591562 0.59114484 0.59278405 0.59153456\n",
            " 0.58963483 0.58725089 0.5893005  0.59254057 0.59085693 0.58664204\n",
            " 0.58764532 0.58894153 0.59688389 0.59614662 0.59420489 0.60528719\n",
            " 0.60139339 0.5992724  0.59783239 0.59264709 0.58945998 0.59189688\n",
            " 0.59360715 0.59421402 0.59755619 0.59518336 0.59356607 0.59535212\n",
            " 0.59192001 0.59160303 0.59134236 0.58809286 0.5784247  0.5760508\n",
            " 0.57624209 0.57925146 0.59325244 0.58229674 0.58868999 0.58401173\n",
            " 0.59036602 0.59035704 0.58886499 0.60373527 0.60375887 0.60392386\n",
            " 0.60420018 0.60456467 0.60499996 0.60549229 0.60603082 0.60660756\n",
            " 0.60721731 0.60785377 0.6085124  0.60919094]\n",
            "13 day output [[0.6098863]]\n",
            "14 day input [0.60113743 0.59733722 0.59864271 0.60079413 0.58693452 0.59310026\n",
            " 0.58434591 0.5967655  0.59460799 0.59025828 0.5912891  0.59352331\n",
            " 0.5928052  0.58773495 0.58811021 0.5945838  0.59293303 0.5929245\n",
            " 0.59182977 0.59319948 0.59427656 0.59352376 0.59339213 0.59417278\n",
            " 0.59719843 0.59346944 0.59379752 0.59282498 0.59326157 0.59077004\n",
            " 0.58882314 0.58475525 0.57708741 0.57461764 0.57691926 0.57911511\n",
            " 0.59119247 0.59335455 0.58983372 0.59125654 0.5918109  0.59621357\n",
            " 0.59217947 0.59591562 0.59114484 0.59278405 0.59153456 0.58963483\n",
            " 0.58725089 0.5893005  0.59254057 0.59085693 0.58664204 0.58764532\n",
            " 0.58894153 0.59688389 0.59614662 0.59420489 0.60528719 0.60139339\n",
            " 0.5992724  0.59783239 0.59264709 0.58945998 0.59189688 0.59360715\n",
            " 0.59421402 0.59755619 0.59518336 0.59356607 0.59535212 0.59192001\n",
            " 0.59160303 0.59134236 0.58809286 0.5784247  0.5760508  0.57624209\n",
            " 0.57925146 0.59325244 0.58229674 0.58868999 0.58401173 0.59036602\n",
            " 0.59035704 0.58886499 0.60373527 0.60375887 0.60392386 0.60420018\n",
            " 0.60456467 0.60499996 0.60549229 0.60603082 0.60660756 0.60721731\n",
            " 0.60785377 0.6085124  0.60919094 0.60988629]\n",
            "14 day output [[0.6105961]]\n",
            "15 day input [0.59733722 0.59864271 0.60079413 0.58693452 0.59310026 0.58434591\n",
            " 0.5967655  0.59460799 0.59025828 0.5912891  0.59352331 0.5928052\n",
            " 0.58773495 0.58811021 0.5945838  0.59293303 0.5929245  0.59182977\n",
            " 0.59319948 0.59427656 0.59352376 0.59339213 0.59417278 0.59719843\n",
            " 0.59346944 0.59379752 0.59282498 0.59326157 0.59077004 0.58882314\n",
            " 0.58475525 0.57708741 0.57461764 0.57691926 0.57911511 0.59119247\n",
            " 0.59335455 0.58983372 0.59125654 0.5918109  0.59621357 0.59217947\n",
            " 0.59591562 0.59114484 0.59278405 0.59153456 0.58963483 0.58725089\n",
            " 0.5893005  0.59254057 0.59085693 0.58664204 0.58764532 0.58894153\n",
            " 0.59688389 0.59614662 0.59420489 0.60528719 0.60139339 0.5992724\n",
            " 0.59783239 0.59264709 0.58945998 0.59189688 0.59360715 0.59421402\n",
            " 0.59755619 0.59518336 0.59356607 0.59535212 0.59192001 0.59160303\n",
            " 0.59134236 0.58809286 0.5784247  0.5760508  0.57624209 0.57925146\n",
            " 0.59325244 0.58229674 0.58868999 0.58401173 0.59036602 0.59035704\n",
            " 0.58886499 0.60373527 0.60375887 0.60392386 0.60420018 0.60456467\n",
            " 0.60499996 0.60549229 0.60603082 0.60660756 0.60721731 0.60785377\n",
            " 0.6085124  0.60919094 0.60988629 0.61059612]\n",
            "15 day output [[0.61131907]]\n",
            "16 day input [0.59864271 0.60079413 0.58693452 0.59310026 0.58434591 0.5967655\n",
            " 0.59460799 0.59025828 0.5912891  0.59352331 0.5928052  0.58773495\n",
            " 0.58811021 0.5945838  0.59293303 0.5929245  0.59182977 0.59319948\n",
            " 0.59427656 0.59352376 0.59339213 0.59417278 0.59719843 0.59346944\n",
            " 0.59379752 0.59282498 0.59326157 0.59077004 0.58882314 0.58475525\n",
            " 0.57708741 0.57461764 0.57691926 0.57911511 0.59119247 0.59335455\n",
            " 0.58983372 0.59125654 0.5918109  0.59621357 0.59217947 0.59591562\n",
            " 0.59114484 0.59278405 0.59153456 0.58963483 0.58725089 0.5893005\n",
            " 0.59254057 0.59085693 0.58664204 0.58764532 0.58894153 0.59688389\n",
            " 0.59614662 0.59420489 0.60528719 0.60139339 0.5992724  0.59783239\n",
            " 0.59264709 0.58945998 0.59189688 0.59360715 0.59421402 0.59755619\n",
            " 0.59518336 0.59356607 0.59535212 0.59192001 0.59160303 0.59134236\n",
            " 0.58809286 0.5784247  0.5760508  0.57624209 0.57925146 0.59325244\n",
            " 0.58229674 0.58868999 0.58401173 0.59036602 0.59035704 0.58886499\n",
            " 0.60373527 0.60375887 0.60392386 0.60420018 0.60456467 0.60499996\n",
            " 0.60549229 0.60603082 0.60660756 0.60721731 0.60785377 0.6085124\n",
            " 0.60919094 0.60988629 0.61059612 0.61131907]\n",
            "16 day output [[0.6120546]]\n",
            "17 day input [0.60079413 0.58693452 0.59310026 0.58434591 0.5967655  0.59460799\n",
            " 0.59025828 0.5912891  0.59352331 0.5928052  0.58773495 0.58811021\n",
            " 0.5945838  0.59293303 0.5929245  0.59182977 0.59319948 0.59427656\n",
            " 0.59352376 0.59339213 0.59417278 0.59719843 0.59346944 0.59379752\n",
            " 0.59282498 0.59326157 0.59077004 0.58882314 0.58475525 0.57708741\n",
            " 0.57461764 0.57691926 0.57911511 0.59119247 0.59335455 0.58983372\n",
            " 0.59125654 0.5918109  0.59621357 0.59217947 0.59591562 0.59114484\n",
            " 0.59278405 0.59153456 0.58963483 0.58725089 0.5893005  0.59254057\n",
            " 0.59085693 0.58664204 0.58764532 0.58894153 0.59688389 0.59614662\n",
            " 0.59420489 0.60528719 0.60139339 0.5992724  0.59783239 0.59264709\n",
            " 0.58945998 0.59189688 0.59360715 0.59421402 0.59755619 0.59518336\n",
            " 0.59356607 0.59535212 0.59192001 0.59160303 0.59134236 0.58809286\n",
            " 0.5784247  0.5760508  0.57624209 0.57925146 0.59325244 0.58229674\n",
            " 0.58868999 0.58401173 0.59036602 0.59035704 0.58886499 0.60373527\n",
            " 0.60375887 0.60392386 0.60420018 0.60456467 0.60499996 0.60549229\n",
            " 0.60603082 0.60660756 0.60721731 0.60785377 0.6085124  0.60919094\n",
            " 0.60988629 0.61059612 0.61131907 0.61205459]\n",
            "17 day output [[0.61280096]]\n",
            "18 day input [0.58693452 0.59310026 0.58434591 0.5967655  0.59460799 0.59025828\n",
            " 0.5912891  0.59352331 0.5928052  0.58773495 0.58811021 0.5945838\n",
            " 0.59293303 0.5929245  0.59182977 0.59319948 0.59427656 0.59352376\n",
            " 0.59339213 0.59417278 0.59719843 0.59346944 0.59379752 0.59282498\n",
            " 0.59326157 0.59077004 0.58882314 0.58475525 0.57708741 0.57461764\n",
            " 0.57691926 0.57911511 0.59119247 0.59335455 0.58983372 0.59125654\n",
            " 0.5918109  0.59621357 0.59217947 0.59591562 0.59114484 0.59278405\n",
            " 0.59153456 0.58963483 0.58725089 0.5893005  0.59254057 0.59085693\n",
            " 0.58664204 0.58764532 0.58894153 0.59688389 0.59614662 0.59420489\n",
            " 0.60528719 0.60139339 0.5992724  0.59783239 0.59264709 0.58945998\n",
            " 0.59189688 0.59360715 0.59421402 0.59755619 0.59518336 0.59356607\n",
            " 0.59535212 0.59192001 0.59160303 0.59134236 0.58809286 0.5784247\n",
            " 0.5760508  0.57624209 0.57925146 0.59325244 0.58229674 0.58868999\n",
            " 0.58401173 0.59036602 0.59035704 0.58886499 0.60373527 0.60375887\n",
            " 0.60392386 0.60420018 0.60456467 0.60499996 0.60549229 0.60603082\n",
            " 0.60660756 0.60721731 0.60785377 0.6085124  0.60919094 0.60988629\n",
            " 0.61059612 0.61131907 0.61205459 0.61280096]\n",
            "18 day output [[0.61355764]]\n",
            "19 day input [0.59310026 0.58434591 0.5967655  0.59460799 0.59025828 0.5912891\n",
            " 0.59352331 0.5928052  0.58773495 0.58811021 0.5945838  0.59293303\n",
            " 0.5929245  0.59182977 0.59319948 0.59427656 0.59352376 0.59339213\n",
            " 0.59417278 0.59719843 0.59346944 0.59379752 0.59282498 0.59326157\n",
            " 0.59077004 0.58882314 0.58475525 0.57708741 0.57461764 0.57691926\n",
            " 0.57911511 0.59119247 0.59335455 0.58983372 0.59125654 0.5918109\n",
            " 0.59621357 0.59217947 0.59591562 0.59114484 0.59278405 0.59153456\n",
            " 0.58963483 0.58725089 0.5893005  0.59254057 0.59085693 0.58664204\n",
            " 0.58764532 0.58894153 0.59688389 0.59614662 0.59420489 0.60528719\n",
            " 0.60139339 0.5992724  0.59783239 0.59264709 0.58945998 0.59189688\n",
            " 0.59360715 0.59421402 0.59755619 0.59518336 0.59356607 0.59535212\n",
            " 0.59192001 0.59160303 0.59134236 0.58809286 0.5784247  0.5760508\n",
            " 0.57624209 0.57925146 0.59325244 0.58229674 0.58868999 0.58401173\n",
            " 0.59036602 0.59035704 0.58886499 0.60373527 0.60375887 0.60392386\n",
            " 0.60420018 0.60456467 0.60499996 0.60549229 0.60603082 0.60660756\n",
            " 0.60721731 0.60785377 0.6085124  0.60919094 0.60988629 0.61059612\n",
            " 0.61131907 0.61205459 0.61280096 0.61355764]\n",
            "19 day output [[0.6143248]]\n",
            "20 day input [0.58434591 0.5967655  0.59460799 0.59025828 0.5912891  0.59352331\n",
            " 0.5928052  0.58773495 0.58811021 0.5945838  0.59293303 0.5929245\n",
            " 0.59182977 0.59319948 0.59427656 0.59352376 0.59339213 0.59417278\n",
            " 0.59719843 0.59346944 0.59379752 0.59282498 0.59326157 0.59077004\n",
            " 0.58882314 0.58475525 0.57708741 0.57461764 0.57691926 0.57911511\n",
            " 0.59119247 0.59335455 0.58983372 0.59125654 0.5918109  0.59621357\n",
            " 0.59217947 0.59591562 0.59114484 0.59278405 0.59153456 0.58963483\n",
            " 0.58725089 0.5893005  0.59254057 0.59085693 0.58664204 0.58764532\n",
            " 0.58894153 0.59688389 0.59614662 0.59420489 0.60528719 0.60139339\n",
            " 0.5992724  0.59783239 0.59264709 0.58945998 0.59189688 0.59360715\n",
            " 0.59421402 0.59755619 0.59518336 0.59356607 0.59535212 0.59192001\n",
            " 0.59160303 0.59134236 0.58809286 0.5784247  0.5760508  0.57624209\n",
            " 0.57925146 0.59325244 0.58229674 0.58868999 0.58401173 0.59036602\n",
            " 0.59035704 0.58886499 0.60373527 0.60375887 0.60392386 0.60420018\n",
            " 0.60456467 0.60499996 0.60549229 0.60603082 0.60660756 0.60721731\n",
            " 0.60785377 0.6085124  0.60919094 0.60988629 0.61059612 0.61131907\n",
            " 0.61205459 0.61280096 0.61355764 0.61432481]\n",
            "20 day output [[0.6151004]]\n",
            "21 day input [0.5967655  0.59460799 0.59025828 0.5912891  0.59352331 0.5928052\n",
            " 0.58773495 0.58811021 0.5945838  0.59293303 0.5929245  0.59182977\n",
            " 0.59319948 0.59427656 0.59352376 0.59339213 0.59417278 0.59719843\n",
            " 0.59346944 0.59379752 0.59282498 0.59326157 0.59077004 0.58882314\n",
            " 0.58475525 0.57708741 0.57461764 0.57691926 0.57911511 0.59119247\n",
            " 0.59335455 0.58983372 0.59125654 0.5918109  0.59621357 0.59217947\n",
            " 0.59591562 0.59114484 0.59278405 0.59153456 0.58963483 0.58725089\n",
            " 0.5893005  0.59254057 0.59085693 0.58664204 0.58764532 0.58894153\n",
            " 0.59688389 0.59614662 0.59420489 0.60528719 0.60139339 0.5992724\n",
            " 0.59783239 0.59264709 0.58945998 0.59189688 0.59360715 0.59421402\n",
            " 0.59755619 0.59518336 0.59356607 0.59535212 0.59192001 0.59160303\n",
            " 0.59134236 0.58809286 0.5784247  0.5760508  0.57624209 0.57925146\n",
            " 0.59325244 0.58229674 0.58868999 0.58401173 0.59036602 0.59035704\n",
            " 0.58886499 0.60373527 0.60375887 0.60392386 0.60420018 0.60456467\n",
            " 0.60499996 0.60549229 0.60603082 0.60660756 0.60721731 0.60785377\n",
            " 0.6085124  0.60919094 0.60988629 0.61059612 0.61131907 0.61205459\n",
            " 0.61280096 0.61355764 0.61432481 0.61510038]\n",
            "21 day output [[0.61588496]]\n",
            "22 day input [0.59460799 0.59025828 0.5912891  0.59352331 0.5928052  0.58773495\n",
            " 0.58811021 0.5945838  0.59293303 0.5929245  0.59182977 0.59319948\n",
            " 0.59427656 0.59352376 0.59339213 0.59417278 0.59719843 0.59346944\n",
            " 0.59379752 0.59282498 0.59326157 0.59077004 0.58882314 0.58475525\n",
            " 0.57708741 0.57461764 0.57691926 0.57911511 0.59119247 0.59335455\n",
            " 0.58983372 0.59125654 0.5918109  0.59621357 0.59217947 0.59591562\n",
            " 0.59114484 0.59278405 0.59153456 0.58963483 0.58725089 0.5893005\n",
            " 0.59254057 0.59085693 0.58664204 0.58764532 0.58894153 0.59688389\n",
            " 0.59614662 0.59420489 0.60528719 0.60139339 0.5992724  0.59783239\n",
            " 0.59264709 0.58945998 0.59189688 0.59360715 0.59421402 0.59755619\n",
            " 0.59518336 0.59356607 0.59535212 0.59192001 0.59160303 0.59134236\n",
            " 0.58809286 0.5784247  0.5760508  0.57624209 0.57925146 0.59325244\n",
            " 0.58229674 0.58868999 0.58401173 0.59036602 0.59035704 0.58886499\n",
            " 0.60373527 0.60375887 0.60392386 0.60420018 0.60456467 0.60499996\n",
            " 0.60549229 0.60603082 0.60660756 0.60721731 0.60785377 0.6085124\n",
            " 0.60919094 0.60988629 0.61059612 0.61131907 0.61205459 0.61280096\n",
            " 0.61355764 0.61432481 0.61510038 0.61588496]\n",
            "22 day output [[0.6166762]]\n",
            "23 day input [0.59025828 0.5912891  0.59352331 0.5928052  0.58773495 0.58811021\n",
            " 0.5945838  0.59293303 0.5929245  0.59182977 0.59319948 0.59427656\n",
            " 0.59352376 0.59339213 0.59417278 0.59719843 0.59346944 0.59379752\n",
            " 0.59282498 0.59326157 0.59077004 0.58882314 0.58475525 0.57708741\n",
            " 0.57461764 0.57691926 0.57911511 0.59119247 0.59335455 0.58983372\n",
            " 0.59125654 0.5918109  0.59621357 0.59217947 0.59591562 0.59114484\n",
            " 0.59278405 0.59153456 0.58963483 0.58725089 0.5893005  0.59254057\n",
            " 0.59085693 0.58664204 0.58764532 0.58894153 0.59688389 0.59614662\n",
            " 0.59420489 0.60528719 0.60139339 0.5992724  0.59783239 0.59264709\n",
            " 0.58945998 0.59189688 0.59360715 0.59421402 0.59755619 0.59518336\n",
            " 0.59356607 0.59535212 0.59192001 0.59160303 0.59134236 0.58809286\n",
            " 0.5784247  0.5760508  0.57624209 0.57925146 0.59325244 0.58229674\n",
            " 0.58868999 0.58401173 0.59036602 0.59035704 0.58886499 0.60373527\n",
            " 0.60375887 0.60392386 0.60420018 0.60456467 0.60499996 0.60549229\n",
            " 0.60603082 0.60660756 0.60721731 0.60785377 0.6085124  0.60919094\n",
            " 0.60988629 0.61059612 0.61131907 0.61205459 0.61280096 0.61355764\n",
            " 0.61432481 0.61510038 0.61588496 0.61667621]\n",
            "23 day output [[0.6174753]]\n",
            "24 day input [0.5912891  0.59352331 0.5928052  0.58773495 0.58811021 0.5945838\n",
            " 0.59293303 0.5929245  0.59182977 0.59319948 0.59427656 0.59352376\n",
            " 0.59339213 0.59417278 0.59719843 0.59346944 0.59379752 0.59282498\n",
            " 0.59326157 0.59077004 0.58882314 0.58475525 0.57708741 0.57461764\n",
            " 0.57691926 0.57911511 0.59119247 0.59335455 0.58983372 0.59125654\n",
            " 0.5918109  0.59621357 0.59217947 0.59591562 0.59114484 0.59278405\n",
            " 0.59153456 0.58963483 0.58725089 0.5893005  0.59254057 0.59085693\n",
            " 0.58664204 0.58764532 0.58894153 0.59688389 0.59614662 0.59420489\n",
            " 0.60528719 0.60139339 0.5992724  0.59783239 0.59264709 0.58945998\n",
            " 0.59189688 0.59360715 0.59421402 0.59755619 0.59518336 0.59356607\n",
            " 0.59535212 0.59192001 0.59160303 0.59134236 0.58809286 0.5784247\n",
            " 0.5760508  0.57624209 0.57925146 0.59325244 0.58229674 0.58868999\n",
            " 0.58401173 0.59036602 0.59035704 0.58886499 0.60373527 0.60375887\n",
            " 0.60392386 0.60420018 0.60456467 0.60499996 0.60549229 0.60603082\n",
            " 0.60660756 0.60721731 0.60785377 0.6085124  0.60919094 0.60988629\n",
            " 0.61059612 0.61131907 0.61205459 0.61280096 0.61355764 0.61432481\n",
            " 0.61510038 0.61588496 0.61667621 0.61747527]\n",
            "24 day output [[0.6182821]]\n",
            "25 day input [0.59352331 0.5928052  0.58773495 0.58811021 0.5945838  0.59293303\n",
            " 0.5929245  0.59182977 0.59319948 0.59427656 0.59352376 0.59339213\n",
            " 0.59417278 0.59719843 0.59346944 0.59379752 0.59282498 0.59326157\n",
            " 0.59077004 0.58882314 0.58475525 0.57708741 0.57461764 0.57691926\n",
            " 0.57911511 0.59119247 0.59335455 0.58983372 0.59125654 0.5918109\n",
            " 0.59621357 0.59217947 0.59591562 0.59114484 0.59278405 0.59153456\n",
            " 0.58963483 0.58725089 0.5893005  0.59254057 0.59085693 0.58664204\n",
            " 0.58764532 0.58894153 0.59688389 0.59614662 0.59420489 0.60528719\n",
            " 0.60139339 0.5992724  0.59783239 0.59264709 0.58945998 0.59189688\n",
            " 0.59360715 0.59421402 0.59755619 0.59518336 0.59356607 0.59535212\n",
            " 0.59192001 0.59160303 0.59134236 0.58809286 0.5784247  0.5760508\n",
            " 0.57624209 0.57925146 0.59325244 0.58229674 0.58868999 0.58401173\n",
            " 0.59036602 0.59035704 0.58886499 0.60373527 0.60375887 0.60392386\n",
            " 0.60420018 0.60456467 0.60499996 0.60549229 0.60603082 0.60660756\n",
            " 0.60721731 0.60785377 0.6085124  0.60919094 0.60988629 0.61059612\n",
            " 0.61131907 0.61205459 0.61280096 0.61355764 0.61432481 0.61510038\n",
            " 0.61588496 0.61667621 0.61747527 0.61828208]\n",
            "25 day output [[0.61909574]]\n",
            "26 day input [0.5928052  0.58773495 0.58811021 0.5945838  0.59293303 0.5929245\n",
            " 0.59182977 0.59319948 0.59427656 0.59352376 0.59339213 0.59417278\n",
            " 0.59719843 0.59346944 0.59379752 0.59282498 0.59326157 0.59077004\n",
            " 0.58882314 0.58475525 0.57708741 0.57461764 0.57691926 0.57911511\n",
            " 0.59119247 0.59335455 0.58983372 0.59125654 0.5918109  0.59621357\n",
            " 0.59217947 0.59591562 0.59114484 0.59278405 0.59153456 0.58963483\n",
            " 0.58725089 0.5893005  0.59254057 0.59085693 0.58664204 0.58764532\n",
            " 0.58894153 0.59688389 0.59614662 0.59420489 0.60528719 0.60139339\n",
            " 0.5992724  0.59783239 0.59264709 0.58945998 0.59189688 0.59360715\n",
            " 0.59421402 0.59755619 0.59518336 0.59356607 0.59535212 0.59192001\n",
            " 0.59160303 0.59134236 0.58809286 0.5784247  0.5760508  0.57624209\n",
            " 0.57925146 0.59325244 0.58229674 0.58868999 0.58401173 0.59036602\n",
            " 0.59035704 0.58886499 0.60373527 0.60375887 0.60392386 0.60420018\n",
            " 0.60456467 0.60499996 0.60549229 0.60603082 0.60660756 0.60721731\n",
            " 0.60785377 0.6085124  0.60919094 0.60988629 0.61059612 0.61131907\n",
            " 0.61205459 0.61280096 0.61355764 0.61432481 0.61510038 0.61588496\n",
            " 0.61667621 0.61747527 0.61828208 0.61909574]\n",
            "26 day output [[0.6199162]]\n",
            "27 day input [0.58773495 0.58811021 0.5945838  0.59293303 0.5929245  0.59182977\n",
            " 0.59319948 0.59427656 0.59352376 0.59339213 0.59417278 0.59719843\n",
            " 0.59346944 0.59379752 0.59282498 0.59326157 0.59077004 0.58882314\n",
            " 0.58475525 0.57708741 0.57461764 0.57691926 0.57911511 0.59119247\n",
            " 0.59335455 0.58983372 0.59125654 0.5918109  0.59621357 0.59217947\n",
            " 0.59591562 0.59114484 0.59278405 0.59153456 0.58963483 0.58725089\n",
            " 0.5893005  0.59254057 0.59085693 0.58664204 0.58764532 0.58894153\n",
            " 0.59688389 0.59614662 0.59420489 0.60528719 0.60139339 0.5992724\n",
            " 0.59783239 0.59264709 0.58945998 0.59189688 0.59360715 0.59421402\n",
            " 0.59755619 0.59518336 0.59356607 0.59535212 0.59192001 0.59160303\n",
            " 0.59134236 0.58809286 0.5784247  0.5760508  0.57624209 0.57925146\n",
            " 0.59325244 0.58229674 0.58868999 0.58401173 0.59036602 0.59035704\n",
            " 0.58886499 0.60373527 0.60375887 0.60392386 0.60420018 0.60456467\n",
            " 0.60499996 0.60549229 0.60603082 0.60660756 0.60721731 0.60785377\n",
            " 0.6085124  0.60919094 0.60988629 0.61059612 0.61131907 0.61205459\n",
            " 0.61280096 0.61355764 0.61432481 0.61510038 0.61588496 0.61667621\n",
            " 0.61747527 0.61828208 0.61909574 0.6199162 ]\n",
            "27 day output [[0.6207432]]\n",
            "28 day input [0.58811021 0.5945838  0.59293303 0.5929245  0.59182977 0.59319948\n",
            " 0.59427656 0.59352376 0.59339213 0.59417278 0.59719843 0.59346944\n",
            " 0.59379752 0.59282498 0.59326157 0.59077004 0.58882314 0.58475525\n",
            " 0.57708741 0.57461764 0.57691926 0.57911511 0.59119247 0.59335455\n",
            " 0.58983372 0.59125654 0.5918109  0.59621357 0.59217947 0.59591562\n",
            " 0.59114484 0.59278405 0.59153456 0.58963483 0.58725089 0.5893005\n",
            " 0.59254057 0.59085693 0.58664204 0.58764532 0.58894153 0.59688389\n",
            " 0.59614662 0.59420489 0.60528719 0.60139339 0.5992724  0.59783239\n",
            " 0.59264709 0.58945998 0.59189688 0.59360715 0.59421402 0.59755619\n",
            " 0.59518336 0.59356607 0.59535212 0.59192001 0.59160303 0.59134236\n",
            " 0.58809286 0.5784247  0.5760508  0.57624209 0.57925146 0.59325244\n",
            " 0.58229674 0.58868999 0.58401173 0.59036602 0.59035704 0.58886499\n",
            " 0.60373527 0.60375887 0.60392386 0.60420018 0.60456467 0.60499996\n",
            " 0.60549229 0.60603082 0.60660756 0.60721731 0.60785377 0.6085124\n",
            " 0.60919094 0.60988629 0.61059612 0.61131907 0.61205459 0.61280096\n",
            " 0.61355764 0.61432481 0.61510038 0.61588496 0.61667621 0.61747527\n",
            " 0.61828208 0.61909574 0.6199162  0.62074322]\n",
            "28 day output [[0.6215771]]\n",
            "29 day input [0.5945838  0.59293303 0.5929245  0.59182977 0.59319948 0.59427656\n",
            " 0.59352376 0.59339213 0.59417278 0.59719843 0.59346944 0.59379752\n",
            " 0.59282498 0.59326157 0.59077004 0.58882314 0.58475525 0.57708741\n",
            " 0.57461764 0.57691926 0.57911511 0.59119247 0.59335455 0.58983372\n",
            " 0.59125654 0.5918109  0.59621357 0.59217947 0.59591562 0.59114484\n",
            " 0.59278405 0.59153456 0.58963483 0.58725089 0.5893005  0.59254057\n",
            " 0.59085693 0.58664204 0.58764532 0.58894153 0.59688389 0.59614662\n",
            " 0.59420489 0.60528719 0.60139339 0.5992724  0.59783239 0.59264709\n",
            " 0.58945998 0.59189688 0.59360715 0.59421402 0.59755619 0.59518336\n",
            " 0.59356607 0.59535212 0.59192001 0.59160303 0.59134236 0.58809286\n",
            " 0.5784247  0.5760508  0.57624209 0.57925146 0.59325244 0.58229674\n",
            " 0.58868999 0.58401173 0.59036602 0.59035704 0.58886499 0.60373527\n",
            " 0.60375887 0.60392386 0.60420018 0.60456467 0.60499996 0.60549229\n",
            " 0.60603082 0.60660756 0.60721731 0.60785377 0.6085124  0.60919094\n",
            " 0.60988629 0.61059612 0.61131907 0.61205459 0.61280096 0.61355764\n",
            " 0.61432481 0.61510038 0.61588496 0.61667621 0.61747527 0.61828208\n",
            " 0.61909574 0.6199162  0.62074322 0.62157708]\n",
            "29 day output [[0.6224172]]\n",
            "[[0.6037352681159973], [0.6037588715553284], [0.6039238572120667], [0.6042001843452454], [0.6045646667480469], [0.6049999594688416], [0.6054922938346863], [0.6060308218002319], [0.6066075563430786], [0.6072173118591309], [0.6078537702560425], [0.6085124015808105], [0.6091909408569336], [0.6098862886428833], [0.6105961203575134], [0.6113190650939941], [0.6120545864105225], [0.6128009557723999], [0.6135576367378235], [0.6143248081207275], [0.6151003837585449], [0.6158849596977234], [0.6166762113571167], [0.6174752712249756], [0.6182820796966553], [0.6190957427024841], [0.6199162006378174], [0.6207432150840759], [0.6215770840644836], [0.6224172115325928]]\n"
          ]
        }
      ],
      "source": [
        "# demonstrate prediction for next 10 days\n",
        "from numpy import array\n",
        "\n",
        "lst_output=[]\n",
        "n_steps=100\n",
        "i=0\n",
        "while(i<30):\n",
        "    \n",
        "    if(len(temp_input)>100):\n",
        "        #print(temp_input)\n",
        "        x_input=np.array(temp_input[1:])\n",
        "        print(\"{} day input {}\".format(i,x_input))\n",
        "        x_input=x_input.reshape(1,-1)\n",
        "        x_input = x_input.reshape((1, n_steps, 1))\n",
        "        #print(x_input)\n",
        "        yhat = model.predict(x_input, verbose=0)\n",
        "        print(\"{} day output {}\".format(i,yhat))\n",
        "        temp_input.extend(yhat[0].tolist())\n",
        "        temp_input=temp_input[1:]\n",
        "        #print(temp_input)\n",
        "        lst_output.extend(yhat.tolist())\n",
        "        i=i+1\n",
        "    else:\n",
        "        x_input = x_input.reshape((1, n_steps,1))\n",
        "        yhat = model.predict(x_input, verbose=0)\n",
        "        print(yhat[0])\n",
        "        temp_input.extend(yhat[0].tolist())\n",
        "        print(len(temp_input))\n",
        "        lst_output.extend(yhat.tolist())\n",
        "        i=i+1\n",
        "    \n",
        "\n",
        "print(lst_output)"
      ],
      "id": "f_qvcLl6dKQC"
    },
    {
      "cell_type": "code",
      "execution_count": null,
      "metadata": {
        "id": "jC0hoZmCdKTZ"
      },
      "outputs": [],
      "source": [
        "day_new=np.arange(1,101)\n",
        "day_pred=np.arange(101,131)"
      ],
      "id": "jC0hoZmCdKTZ"
    },
    {
      "cell_type": "code",
      "execution_count": null,
      "metadata": {
        "id": "lWcywNOndKYT",
        "colab": {
          "base_uri": "https://localhost:8080/"
        },
        "outputId": "cabd372a-5e59-4c38-8aff-c7a6e582c8d3"
      },
      "outputs": [
        {
          "output_type": "execute_result",
          "data": {
            "text/plain": [
              "38461"
            ]
          },
          "metadata": {},
          "execution_count": 58
        }
      ],
      "source": [
        "len(df1)"
      ],
      "id": "lWcywNOndKYT"
    },
    {
      "cell_type": "code",
      "execution_count": null,
      "metadata": {
        "id": "qiI8ZqeidmB8",
        "colab": {
          "base_uri": "https://localhost:8080/",
          "height": 283
        },
        "outputId": "0c19d4d6-a96f-4dd1-b5de-976cf0014320"
      },
      "outputs": [
        {
          "output_type": "execute_result",
          "data": {
            "text/plain": [
              "[<matplotlib.lines.Line2D at 0x7f699eeba890>]"
            ]
          },
          "metadata": {},
          "execution_count": 59
        },
        {
          "output_type": "display_data",
          "data": {
            "text/plain": [
              "<Figure size 432x288 with 1 Axes>"
            ],
            "image/png": "[encoded data removed]"
          },
          "metadata": {
            "needs_background": "light"
          }
        }
      ],
      "source": [
        "plt.plot(day_new,scaler.inverse_transform(df1[38361:]))\n",
        "plt.plot(day_pred,scaler.inverse_transform(lst_output))"
      ],
      "id": "qiI8ZqeidmB8"
    },
    {
      "cell_type": "code",
      "execution_count": null,
      "metadata": {
        "id": "m-nprK9odmFX",
        "colab": {
          "base_uri": "https://localhost:8080/",
          "height": 283
        },
        "outputId": "383f537e-5575-4e83-a070-680dc015100d"
      },
      "outputs": [
        {
          "output_type": "execute_result",
          "data": {
            "text/plain": [
              "[<matplotlib.lines.Line2D at 0x7f699efc5650>]"
            ]
          },
          "metadata": {},
          "execution_count": 60
        },
        {
          "output_type": "display_data",
          "data": {
            "text/plain": [
              "<Figure size 432x288 with 1 Axes>"
            ],
            "image/png": "[encoded data removed]"
          },
          "metadata": {
            "needs_background": "light"
          }
        }
      ],
      "source": [
        "df3=df1.tolist()\n",
        "df3.extend(lst_output)\n",
        "plt.plot(df3[38400:])"
      ],
      "id": "m-nprK9odmFX"
    },
    {
      "cell_type": "code",
      "execution_count": null,
      "metadata": {
        "id": "GvEyjGsWdsUO"
      },
      "outputs": [],
      "source": [
        "df3=scaler.inverse_transform(df3).tolist()"
      ],
      "id": "GvEyjGsWdsUO"
    },
    {
      "cell_type": "code",
      "execution_count": null,
      "metadata": {
        "id": "o1-k3WbkdsXe",
        "colab": {
          "base_uri": "https://localhost:8080/",
          "height": 283
        },
        "outputId": "8c7b613a-95ff-4a81-fb0b-8378fae468e9"
      },
      "outputs": [
        {
          "output_type": "execute_result",
          "data": {
            "text/plain": [
              "[<matplotlib.lines.Line2D at 0x7f699eff5d10>]"
            ]
          },
          "metadata": {},
          "execution_count": 62
        },
        {
          "output_type": "display_data",
          "data": {
            "text/plain": [
              "<Figure size 432x288 with 1 Axes>"
            ],
            "image/png": "[encoded data removed]"
          },
          "metadata": {
            "needs_background": "light"
          }
        }
      ],
      "source": [
        "plt.plot(df3)"
      ],
      "id": "o1-k3WbkdsXe"
    },
    {
      "cell_type": "markdown",
      "source": [
        "CNN-LSTM HYBRID MODEL"
      ],
      "metadata": {
        "id": "8b9ZQfoH01WV"
      },
      "id": "8b9ZQfoH01WV"
    },
    {
      "cell_type": "code",
      "source": [
        "from keras.callbacks import ReduceLROnPlateau\n",
        "from keras.layers import Dense, Dropout, Conv1D,Flatten, MaxPooling1D,Activation\n",
        "from sklearn.model_selection import train_test_split\n",
        "from tensorflow.keras.utils import plot_model"
      ],
      "metadata": {
        "id": "oLfdEvpjycU0"
      },
      "id": "oLfdEvpjycU0",
      "execution_count": null,
      "outputs": []
    },
    {
      "cell_type": "code",
      "source": [
        "def evaluate_hybrid_model(X_train, y_train, X_test, ytest, kernel, verbose=1):\n",
        "   X_train1, X_val, y_train1, y_val = train_test_split(X_train, y_train, test_size=0.3, random_state=1)\n",
        "\n",
        "   epochs, batch_size = 15, 128\n",
        "   n_timesteps, n_features, n_outputs = X_train1.shape[1], X_train1.shape[2], 1\n",
        "   model = Sequential()\n",
        "   model.add(Conv1D(filters=64, kernel_size=kernel[0], activation='relu', input_shape=(n_timesteps, n_features)))\n",
        "   model.add(MaxPooling1D(pool_size=2))\n",
        "   model.add(Conv1D(filters=50, kernel_size=kernel[1], activation='relu'))\n",
        "   model.add(Dropout(0.3))\n",
        "   model.add(MaxPooling1D(pool_size=2))\n",
        "   model.add(LSTM(units=60, return_sequences=True))\n",
        "   model.add(Dropout(0.2))\n",
        "   model.add(LSTM(units=65))\n",
        "   model.add(Dropout(0.2))\n",
        "   model.add(Dense(units=65))\n",
        "   model.add(Dense(units=n_outputs, activation=\"sigmoid\"))\n",
        "\n",
        "   # Reduce the learning rate once the learning stagnates, it is good in order\n",
        "   # try to scratch those last decimals of accuracy.\n",
        "   reduce_lr = ReduceLROnPlateau(monitor='accuracy',\n",
        "                                  factor=0.1,\n",
        "                                  patience=4,\n",
        "                                  verbose=verbose,\n",
        "                                  min_delta=0.001,\n",
        "                                  mode='max')\n",
        "\n",
        "   model.compile(optimizer='adam', loss='mean_squared_error')\n",
        "   # Save an image of the model architecture\n",
        "   plot_model(model, show_layer_names=False, show_shapes=True, to_file='CNN_LSTM.png')\n",
        "   history = model.fit(X_train1, y_train1, epochs=epochs, batch_size=batch_size,\n",
        "              verbose=verbose, shuffle=True,\n",
        "              callbacks=[reduce_lr],\n",
        "             validation_data=(X_val,y_val))\n",
        "    \n",
        "   plt.plot(history.history['loss'])\n",
        "   plt.plot(history.history['val_loss'])\n",
        "   plt.title('model loss')\n",
        "   plt.ylabel('loss')\n",
        "   plt.xlabel('epoch')\n",
        "   plt.legend(['train', 'val'], loc='upper left')\n",
        "   plt.show()\n",
        "   train_predict=model.predict(X_train)\n",
        "   test_predict=model.predict(X_test)\n",
        "   ### Plotting \n",
        "   # shift train predictions for plotting\n",
        "   look_back=100\n",
        "   trainPredictPlot = numpy.empty_like(df1)\n",
        "   trainPredictPlot[:, :] = np.nan\n",
        "   trainPredictPlot[look_back:len(train_predict)+look_back, :] = train_predict\n",
        "   # shift test predictions for plotting\n",
        "   testPredictPlot = numpy.empty_like(df1)\n",
        "   testPredictPlot[:, :] = numpy.nan\n",
        "   testPredictPlot[len(train_predict)+(look_back*2)+1:len(df1)-1, :] = test_predict\n",
        "   # plot baseline and predictions\n",
        "   plt.plot(scaler.inverse_transform(df1))\n",
        "   plt.plot(scaler.inverse_transform(trainPredictPlot))\n",
        "   plt.plot(scaler.inverse_transform(testPredictPlot))\n",
        "   plt.show()\n",
        "   ### Test Data RMSE\n",
        "   print(\"RMSE : \", math.sqrt(mean_squared_error(ytest,test_predict)))\n",
        "   ### Test R2 Score\n",
        "   print(\"R2 : \", r2_score(ytest,test_predict)*100, '%')\n",
        "   return history"
      ],
      "metadata": {
        "id": "rNju6WH328-F"
      },
      "id": "rNju6WH328-F",
      "execution_count": null,
      "outputs": []
    },
    {
      "cell_type": "code",
      "source": [
        "kernel=((3, 3),\n",
        "        (5,5),)\n",
        "all_scores = []\n",
        "#score,history = evaluate_model(trainX, trainy,testX , testy,kernel=k)\n",
        "\n",
        "for k in kernel:\n",
        "    print(\"#Kernel:\", k)\n",
        "# repeat experiment\n",
        "    his = evaluate_hybrid_model(X_train, y_train, X_test, ytest,kernel=k)\n",
        "    print(his)"
      ],
      "metadata": {
        "colab": {
          "base_uri": "https://localhost:8080/",
          "height": 1000
        },
        "id": "D7j3tQey2qyQ",
        "outputId": "cc726618-44e1-4bf8-cc03-3af82368fe62"
      },
      "id": "D7j3tQey2qyQ",
      "execution_count": null,
      "outputs": [
        {
          "output_type": "stream",
          "name": "stdout",
          "text": [
            "#Kernel: (3, 3)\n",
            "Epoch 1/15\n",
            "168/168 [==============================] - ETA: 0s - loss: 0.0150WARNING:tensorflow:Learning rate reduction is conditioned on metric `accuracy` which is not available. Available metrics are: loss,val_loss,lr\n",
            "168/168 [==============================] - 42s 221ms/step - loss: 0.0150 - val_loss: 0.0018 - lr: 0.0010\n",
            "Epoch 2/15\n",
            "168/168 [==============================] - ETA: 0s - loss: 5.3889e-04WARNING:tensorflow:Learning rate reduction is conditioned on metric `accuracy` which is not available. Available metrics are: loss,val_loss,lr\n",
            "168/168 [==============================] - 26s 152ms/step - loss: 5.3889e-04 - val_loss: 0.0021 - lr: 0.0010\n",
            "Epoch 3/15\n",
            "168/168 [==============================] - ETA: 0s - loss: 3.1496e-04WARNING:tensorflow:Learning rate reduction is conditioned on metric `accuracy` which is not available. Available metrics are: loss,val_loss,lr\n",
            "168/168 [==============================] - 19s 112ms/step - loss: 3.1496e-04 - val_loss: 0.0017 - lr: 0.0010\n",
            "Epoch 4/15\n",
            "168/168 [==============================] - ETA: 0s - loss: 2.8985e-04WARNING:tensorflow:Learning rate reduction is conditioned on metric `accuracy` which is not available. Available metrics are: loss,val_loss,lr\n",
            "168/168 [==============================] - 19s 111ms/step - loss: 2.8985e-04 - val_loss: 0.0017 - lr: 0.0010\n",
            "Epoch 5/15\n",
            "168/168 [==============================] - ETA: 0s - loss: 2.6177e-04WARNING:tensorflow:Learning rate reduction is conditioned on metric `accuracy` which is not available. Available metrics are: loss,val_loss,lr\n",
            "168/168 [==============================] - 19s 114ms/step - loss: 2.6177e-04 - val_loss: 0.0016 - lr: 0.0010\n",
            "Epoch 6/15\n",
            "168/168 [==============================] - ETA: 0s - loss: 2.4314e-04WARNING:tensorflow:Learning rate reduction is conditioned on metric `accuracy` which is not available. Available metrics are: loss,val_loss,lr\n",
            "168/168 [==============================] - 19s 115ms/step - loss: 2.4314e-04 - val_loss: 0.0015 - lr: 0.0010\n",
            "Epoch 7/15\n",
            "168/168 [==============================] - ETA: 0s - loss: 2.3158e-04WARNING:tensorflow:Learning rate reduction is conditioned on metric `accuracy` which is not available. Available metrics are: loss,val_loss,lr\n",
            "168/168 [==============================] - 19s 110ms/step - loss: 2.3158e-04 - val_loss: 0.0016 - lr: 0.0010\n",
            "Epoch 8/15\n",
            "168/168 [==============================] - ETA: 0s - loss: 2.3363e-04WARNING:tensorflow:Learning rate reduction is conditioned on metric `accuracy` which is not available. Available metrics are: loss,val_loss,lr\n",
            "168/168 [==============================] - 19s 112ms/step - loss: 2.3363e-04 - val_loss: 0.0014 - lr: 0.0010\n",
            "Epoch 9/15\n",
            "168/168 [==============================] - ETA: 0s - loss: 2.2690e-04WARNING:tensorflow:Learning rate reduction is conditioned on metric `accuracy` which is not available. Available metrics are: loss,val_loss,lr\n",
            "168/168 [==============================] - 18s 104ms/step - loss: 2.2690e-04 - val_loss: 0.0013 - lr: 0.0010\n",
            "Epoch 10/15\n",
            "168/168 [==============================] - ETA: 0s - loss: 2.1964e-04WARNING:tensorflow:Learning rate reduction is conditioned on metric `accuracy` which is not available. Available metrics are: loss,val_loss,lr\n",
            "168/168 [==============================] - 18s 106ms/step - loss: 2.1964e-04 - val_loss: 0.0016 - lr: 0.0010\n",
            "Epoch 11/15\n",
            "168/168 [==============================] - ETA: 0s - loss: 2.1385e-04WARNING:tensorflow:Learning rate reduction is conditioned on metric `accuracy` which is not available. Available metrics are: loss,val_loss,lr\n",
            "168/168 [==============================] - 19s 115ms/step - loss: 2.1385e-04 - val_loss: 0.0014 - lr: 0.0010\n",
            "Epoch 12/15\n",
            "168/168 [==============================] - ETA: 0s - loss: 2.1510e-04WARNING:tensorflow:Learning rate reduction is conditioned on metric `accuracy` which is not available. Available metrics are: loss,val_loss,lr\n",
            "168/168 [==============================] - 18s 106ms/step - loss: 2.1510e-04 - val_loss: 0.0011 - lr: 0.0010\n",
            "Epoch 13/15\n",
            "168/168 [==============================] - ETA: 0s - loss: 1.9121e-04WARNING:tensorflow:Learning rate reduction is conditioned on metric `accuracy` which is not available. Available metrics are: loss,val_loss,lr\n",
            "168/168 [==============================] - 18s 106ms/step - loss: 1.9121e-04 - val_loss: 0.0015 - lr: 0.0010\n",
            "Epoch 14/15\n",
            "168/168 [==============================] - ETA: 0s - loss: 1.8854e-04WARNING:tensorflow:Learning rate reduction is conditioned on metric `accuracy` which is not available. Available metrics are: loss,val_loss,lr\n",
            "168/168 [==============================] - 19s 115ms/step - loss: 1.8854e-04 - val_loss: 0.0010 - lr: 0.0010\n",
            "Epoch 15/15\n",
            "168/168 [==============================] - ETA: 0s - loss: 1.8305e-04WARNING:tensorflow:Learning rate reduction is conditioned on metric `accuracy` which is not available. Available metrics are: loss,val_loss,lr\n",
            "168/168 [==============================] - 18s 105ms/step - loss: 1.8305e-04 - val_loss: 0.0012 - lr: 0.0010\n"
          ]
        },
        {
          "output_type": "display_data",
          "data": {
            "text/plain": [
              "<Figure size 432x288 with 1 Axes>"
            ],
            "image/png": "[encoded data removed]"
          },
          "metadata": {
            "needs_background": "light"
          }
        },
        {
          "output_type": "display_data",
          "data": {
            "text/plain": [
              "<Figure size 432x288 with 1 Axes>"
            ],
            "image/png": "[encoded data removed]"
          },
          "metadata": {
            "needs_background": "light"
          }
        },
        {
          "output_type": "stream",
          "name": "stdout",
          "text": [
            "RMSE :  0.1399573942862308\n",
            "R2 :  5.17130806567383 %\n",
            "<keras.callbacks.History object at 0x7f6a14bc3310>\n",
            "#Kernel: (5, 5)\n",
            "Epoch 1/15\n",
            "168/168 [==============================] - ETA: 0s - loss: 0.0171WARNING:tensorflow:Learning rate reduction is conditioned on metric `accuracy` which is not available. Available metrics are: loss,val_loss,lr\n",
            "168/168 [==============================] - 23s 115ms/step - loss: 0.0171 - val_loss: 0.0020 - lr: 0.0010\n",
            "Epoch 2/15\n",
            "168/168 [==============================] - ETA: 0s - loss: 5.1769e-04WARNING:tensorflow:Learning rate reduction is conditioned on metric `accuracy` which is not available. Available metrics are: loss,val_loss,lr\n",
            "168/168 [==============================] - 18s 109ms/step - loss: 5.1769e-04 - val_loss: 0.0022 - lr: 0.0010\n",
            "Epoch 3/15\n",
            "168/168 [==============================] - ETA: 0s - loss: 4.0316e-04WARNING:tensorflow:Learning rate reduction is conditioned on metric `accuracy` which is not available. Available metrics are: loss,val_loss,lr\n",
            "168/168 [==============================] - 18s 109ms/step - loss: 4.0316e-04 - val_loss: 0.0015 - lr: 0.0010\n",
            "Epoch 4/15\n",
            "168/168 [==============================] - ETA: 0s - loss: 3.2315e-04WARNING:tensorflow:Learning rate reduction is conditioned on metric `accuracy` which is not available. Available metrics are: loss,val_loss,lr\n",
            "168/168 [==============================] - 18s 108ms/step - loss: 3.2315e-04 - val_loss: 0.0020 - lr: 0.0010\n",
            "Epoch 5/15\n",
            "168/168 [==============================] - ETA: 0s - loss: 2.7185e-04WARNING:tensorflow:Learning rate reduction is conditioned on metric `accuracy` which is not available. Available metrics are: loss,val_loss,lr\n",
            "168/168 [==============================] - 18s 108ms/step - loss: 2.7185e-04 - val_loss: 0.0014 - lr: 0.0010\n",
            "Epoch 6/15\n",
            "168/168 [==============================] - ETA: 0s - loss: 2.4788e-04WARNING:tensorflow:Learning rate reduction is conditioned on metric `accuracy` which is not available. Available metrics are: loss,val_loss,lr\n",
            "168/168 [==============================] - 18s 109ms/step - loss: 2.4788e-04 - val_loss: 0.0011 - lr: 0.0010\n",
            "Epoch 7/15\n",
            "168/168 [==============================] - ETA: 0s - loss: 2.7217e-04WARNING:tensorflow:Learning rate reduction is conditioned on metric `accuracy` which is not available. Available metrics are: loss,val_loss,lr\n",
            "168/168 [==============================] - 18s 109ms/step - loss: 2.7217e-04 - val_loss: 0.0014 - lr: 0.0010\n",
            "Epoch 8/15\n",
            "168/168 [==============================] - ETA: 0s - loss: 2.3847e-04WARNING:tensorflow:Learning rate reduction is conditioned on metric `accuracy` which is not available. Available metrics are: loss,val_loss,lr\n",
            "168/168 [==============================] - 18s 110ms/step - loss: 2.3847e-04 - val_loss: 0.0014 - lr: 0.0010\n",
            "Epoch 9/15\n",
            "168/168 [==============================] - ETA: 0s - loss: 2.4019e-04WARNING:tensorflow:Learning rate reduction is conditioned on metric `accuracy` which is not available. Available metrics are: loss,val_loss,lr\n",
            "168/168 [==============================] - 20s 120ms/step - loss: 2.4019e-04 - val_loss: 0.0010 - lr: 0.0010\n",
            "Epoch 10/15\n",
            "168/168 [==============================] - ETA: 0s - loss: 2.2289e-04WARNING:tensorflow:Learning rate reduction is conditioned on metric `accuracy` which is not available. Available metrics are: loss,val_loss,lr\n",
            "168/168 [==============================] - 18s 110ms/step - loss: 2.2289e-04 - val_loss: 0.0013 - lr: 0.0010\n",
            "Epoch 11/15\n",
            "168/168 [==============================] - ETA: 0s - loss: 2.1136e-04WARNING:tensorflow:Learning rate reduction is conditioned on metric `accuracy` which is not available. Available metrics are: loss,val_loss,lr\n",
            "168/168 [==============================] - 19s 111ms/step - loss: 2.1136e-04 - val_loss: 0.0012 - lr: 0.0010\n",
            "Epoch 12/15\n",
            "168/168 [==============================] - ETA: 0s - loss: 2.1809e-04WARNING:tensorflow:Learning rate reduction is conditioned on metric `accuracy` which is not available. Available metrics are: loss,val_loss,lr\n",
            "168/168 [==============================] - 19s 110ms/step - loss: 2.1809e-04 - val_loss: 8.1792e-04 - lr: 0.0010\n",
            "Epoch 13/15\n",
            "168/168 [==============================] - ETA: 0s - loss: 1.9504e-04WARNING:tensorflow:Learning rate reduction is conditioned on metric `accuracy` which is not available. Available metrics are: loss,val_loss,lr\n",
            "168/168 [==============================] - 19s 111ms/step - loss: 1.9504e-04 - val_loss: 7.6451e-04 - lr: 0.0010\n",
            "Epoch 14/15\n",
            "168/168 [==============================] - ETA: 0s - loss: 2.0685e-04WARNING:tensorflow:Learning rate reduction is conditioned on metric `accuracy` which is not available. Available metrics are: loss,val_loss,lr\n",
            "168/168 [==============================] - 18s 110ms/step - loss: 2.0685e-04 - val_loss: 0.0010 - lr: 0.0010\n",
            "Epoch 15/15\n",
            "168/168 [==============================] - ETA: 0s - loss: 1.8846e-04WARNING:tensorflow:Learning rate reduction is conditioned on metric `accuracy` which is not available. Available metrics are: loss,val_loss,lr\n",
            "168/168 [==============================] - 19s 111ms/step - loss: 1.8846e-04 - val_loss: 8.1466e-04 - lr: 0.0010\n"
          ]
        },
        {
          "output_type": "display_data",
          "data": {
            "text/plain": [
              "<Figure size 432x288 with 1 Axes>"
            ],
            "image/png": "[encoded data removed]"
          },
          "metadata": {
            "needs_background": "light"
          }
        },
        {
          "output_type": "display_data",
          "data": {
            "text/plain": [
              "<Figure size 432x288 with 1 Axes>"
            ],
            "image/png": "[encoded data removed]"
          },
          "metadata": {
            "needs_background": "light"
          }
        },
        {
          "output_type": "stream",
          "name": "stdout",
          "text": [
            "RMSE :  0.10094924733173805\n",
            "R2 :  50.665102077852666 %\n",
            "<keras.callbacks.History object at 0x7f6a14c4a590>\n"
          ]
        }
      ]
    },
    {
      "cell_type": "markdown",
      "source": [
        "CNN MODEL"
      ],
      "metadata": {
        "id": "NdwhW0Ek09_K"
      },
      "id": "NdwhW0Ek09_K"
    },
    {
      "cell_type": "code",
      "source": [
        "X_train1, X_val, y_train1, y_val = train_test_split(X_train, y_train, test_size=0.3, random_state=1)\n",
        "EPOCHS = 10\n",
        "BATCH_SIZE = 64\n",
        "n_timesteps, n_features, n_outputs = X_train1.shape[1], X_train1.shape[2], 1\n",
        "model = Sequential()\n",
        "model.add(Conv1D(filters=64, kernel_size=[3], activation='relu', input_shape=(n_timesteps, n_features)))\n",
        "model.add(Dropout(0.3))\n",
        "model.add(MaxPooling1D(pool_size=2))\n",
        "model.add(Conv1D(filters=50, kernel_size=[5], activation='relu'))\n",
        "model.add(Dropout(0.3))\n",
        "model.add(MaxPooling1D(pool_size=2))\n",
        "\n",
        "model.add(Flatten())\n",
        "model.add(Dense(32))\n",
        "\n",
        "model.add(Dense(1, activation='sigmoid'))\n",
        "\n",
        "model.compile(loss='mean_squared_error',\n",
        "                  optimizer='adam')\n",
        "\n",
        "cnn_history = model.fit(X_train1, y_train1,\n",
        "                    batch_size=BATCH_SIZE,\n",
        "                    epochs=EPOCHS,\n",
        "                    validation_data=(X_val, y_val))\n",
        "plt.plot(cnn_history.history['loss'])\n",
        "plt.plot(cnn_history.history['val_loss'])\n",
        "plt.title('model loss')\n",
        "plt.ylabel('loss')\n",
        "plt.xlabel('epoch')\n",
        "plt.legend(['train', 'val'], loc='upper left')\n",
        "plt.show()  "
      ],
      "metadata": {
        "colab": {
          "base_uri": "https://localhost:8080/",
          "height": 642
        },
        "id": "4Br6Z0oANko1",
        "outputId": "dd8201c7-62ab-47ad-f9dc-39b95b20989c"
      },
      "id": "4Br6Z0oANko1",
      "execution_count": null,
      "outputs": [
        {
          "output_type": "stream",
          "name": "stdout",
          "text": [
            "Epoch 1/10\n",
            "336/336 [==============================] - 11s 31ms/step - loss: 0.0261 - val_loss: 0.0226\n",
            "Epoch 2/10\n",
            "336/336 [==============================] - 11s 32ms/step - loss: 0.0062 - val_loss: 0.0042\n",
            "Epoch 3/10\n",
            "336/336 [==============================] - 11s 32ms/step - loss: 2.4476e-04 - val_loss: 0.0042\n",
            "Epoch 4/10\n",
            "336/336 [==============================] - 11s 32ms/step - loss: 1.9787e-04 - val_loss: 0.0042\n",
            "Epoch 5/10\n",
            "336/336 [==============================] - 11s 33ms/step - loss: 1.5057e-04 - val_loss: 0.0048\n",
            "Epoch 6/10\n",
            "336/336 [==============================] - 11s 32ms/step - loss: 1.4385e-04 - val_loss: 0.0046\n",
            "Epoch 7/10\n",
            "336/336 [==============================] - 10s 31ms/step - loss: 1.2836e-04 - val_loss: 0.0050\n",
            "Epoch 8/10\n",
            "336/336 [==============================] - 11s 32ms/step - loss: 1.1526e-04 - val_loss: 0.0050\n",
            "Epoch 9/10\n",
            "336/336 [==============================] - 11s 33ms/step - loss: 1.0396e-04 - val_loss: 0.0048\n",
            "Epoch 10/10\n",
            "336/336 [==============================] - 11s 32ms/step - loss: 9.5406e-05 - val_loss: 0.0053\n"
          ]
        },
        {
          "output_type": "display_data",
          "data": {
            "text/plain": [
              "<Figure size 432x288 with 1 Axes>"
            ],
            "image/png": "[encoded data removed]"
          },
          "metadata": {
            "needs_background": "light"
          }
        }
      ]
    },
    {
      "cell_type": "code",
      "source": [
        "train_predict=model.predict(X_train)\n",
        "test_predict=model.predict(X_test)\n",
        "### Plotting \n",
        "# shift train predictions for plotting\n",
        "look_back=100\n",
        "trainPredictPlot = numpy.empty_like(df1)\n",
        "trainPredictPlot[:, :] = numpy.nan\n",
        "trainPredictPlot[look_back:len(train_predict)+look_back, :] = train_predict\n",
        "# shift test predictions for plotting\n",
        "testPredictPlot = numpy.empty_like(df1)\n",
        "testPredictPlot[:, :] = numpy.nan\n",
        "testPredictPlot[len(train_predict)+(look_back*2)+1:len(df1)-1, :] = test_predict\n",
        "# plot baseline and predictions\n",
        "plt.plot(scaler.inverse_transform(df1))\n",
        "plt.plot(scaler.inverse_transform(trainPredictPlot))\n",
        "plt.plot(scaler.inverse_transform(testPredictPlot))\n",
        "plt.show()"
      ],
      "metadata": {
        "colab": {
          "base_uri": "https://localhost:8080/",
          "height": 265
        },
        "id": "2pRxoPiaZc9m",
        "outputId": "e374b80d-d425-4345-bcca-bdb70823da4a"
      },
      "id": "2pRxoPiaZc9m",
      "execution_count": null,
      "outputs": [
        {
          "output_type": "display_data",
          "data": {
            "text/plain": [
              "<Figure size 432x288 with 1 Axes>"
            ],
            "image/png": "[encoded data removed]"
          },
          "metadata": {
            "needs_background": "light"
          }
        }
      ]
    },
    {
      "cell_type": "code",
      "source": [
        "### Lets Do the prediction and check performance metrics\n",
        "train_predict=model.predict(X_train)\n",
        "test_predict=model.predict(X_test)\n"
      ],
      "metadata": {
        "id": "8oNkDPFIfEJC"
      },
      "id": "8oNkDPFIfEJC",
      "execution_count": null,
      "outputs": []
    },
    {
      "cell_type": "code",
      "source": [
        "### Calculate RMSE performance metrics\n",
        "import math\n",
        "from sklearn.metrics import mean_squared_error\n",
        "math.sqrt(mean_squared_error(y_train,train_predict))"
      ],
      "metadata": {
        "colab": {
          "base_uri": "https://localhost:8080/"
        },
        "id": "k2pDoXN2fG8I",
        "outputId": "e797d9b9-b5ca-4b19-92f4-2f6bf5a4e119"
      },
      "id": "k2pDoXN2fG8I",
      "execution_count": null,
      "outputs": [
        {
          "output_type": "execute_result",
          "data": {
            "text/plain": [
              "0.07323410770907969"
            ]
          },
          "metadata": {},
          "execution_count": 75
        }
      ]
    },
    {
      "cell_type": "code",
      "source": [
        "### Test Data RMSE\n",
        "math.sqrt(mean_squared_error(ytest,test_predict))"
      ],
      "metadata": {
        "colab": {
          "base_uri": "https://localhost:8080/"
        },
        "id": "4ydSCmfMfK6P",
        "outputId": "31051422-5cc8-4af7-dee6-a8ba86e3e9ea"
      },
      "id": "4ydSCmfMfK6P",
      "execution_count": null,
      "outputs": [
        {
          "output_type": "execute_result",
          "data": {
            "text/plain": [
              "0.13103004218913336"
            ]
          },
          "metadata": {},
          "execution_count": 76
        }
      ]
    },
    {
      "cell_type": "code",
      "source": [
        "print(\"R2 : \", r2_score(ytest,  test_predict)*100, '%')"
      ],
      "metadata": {
        "colab": {
          "base_uri": "https://localhost:8080/"
        },
        "id": "UisHhtK4q2e5",
        "outputId": "97c7f2ba-6b11-45f4-894a-d3d1fe3b7072"
      },
      "id": "UisHhtK4q2e5",
      "execution_count": null,
      "outputs": [
        {
          "output_type": "stream",
          "name": "stdout",
          "text": [
            "R2 :  16.88300657252605 %\n"
          ]
        }
      ]
    }
  ],
  "metadata": {
    "accelerator": "GPU",
    "colab": {
      "collapsed_sections": [],
      "name": "Final code 18.4.22 bitcoin.ipynb",
      "provenance": []
    },
    "kernelspec": {
      "display_name": "Python 3",
      "language": "python",
      "name": "python3"
    },
    "language_info": {
      "codemirror_mode": {
        "name": "ipython",
        "version": 3
      },
      "file_extension": ".py",
      "mimetype": "text/x-python",
      "name": "python",
      "nbconvert_exporter": "python",
      "pygments_lexer": "ipython3",
      "version": "3.8.8"
    }
  },
  "nbformat": 4,
  "nbformat_minor": 5
}